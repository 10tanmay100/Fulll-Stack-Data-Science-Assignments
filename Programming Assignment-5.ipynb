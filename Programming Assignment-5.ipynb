{
 "cells": [
  {
   "cell_type": "markdown",
   "id": "00bc2a0f",
   "metadata": {},
   "source": [
    "### 1.\tWrite a Python Program to Find LCM?"
   ]
  },
  {
   "cell_type": "code",
   "execution_count": 43,
   "id": "b7985a1a",
   "metadata": {},
   "outputs": [
    {
     "name": "stdout",
     "output_type": "stream",
     "text": [
      "How many values do you want to put in a list?--> 3\n",
      "Enter number-->10\n",
      "Enter number-->12\n",
      "Enter number-->16\n",
      "LCM is--> 240\n"
     ]
    }
   ],
   "source": [
    "#Taking list input from the user\n",
    "number=int(input(\"How many values do you want to put in a list?--> \"))\n",
    "#taking empty list\n",
    "l=[]\n",
    "n=1\n",
    "while n<=number:\n",
    "    l.append(int(input(\"Enter number-->\")))\n",
    "    n=n+1\n",
    "multiplier=[]\n",
    "a=2\n",
    "while a<=max(l):\n",
    "    count=0\n",
    "    #checking that which 'a' value can be divisible by atleast 2 elements in the list l\n",
    "    for j in range(len(l)):\n",
    "        if l[j]%a==0:\n",
    "            count+=1\n",
    "        else:\n",
    "            count+=0\n",
    "    if count>=2:\n",
    "        multiplier.append(a)\n",
    "        for k in range(len(l)):\n",
    "            if l[k]%a==0:\n",
    "                l[k]=l[k]//a\n",
    "            else:\n",
    "                l[k]=l[k]\n",
    "                #since this 'a' value can be divisible by atleast 2 that's why again we have to start out loop from 2 \n",
    "                a=2\n",
    "    else:\n",
    "        for k in range(len(l)):\n",
    "            l[k]=l[k]\n",
    "        a+=1\n",
    "if multiplier==[]:\n",
    "    res=1\n",
    "    for k in l:\n",
    "        res=res*k\n",
    "    print(\"LCM IS-->\",res)\n",
    "else:\n",
    "    l2=multiplier+l\n",
    "    res=1\n",
    "    for i in range(len(l2)):\n",
    "        res=res*l2[i]\n",
    "    print(\"LCM is-->\",res)    "
   ]
  },
  {
   "cell_type": "markdown",
   "id": "5f4b980b",
   "metadata": {},
   "source": [
    "### 2.\tWrite a Python Program to Find HCF?"
   ]
  },
  {
   "cell_type": "code",
   "execution_count": 120,
   "id": "bb6e5d3a",
   "metadata": {},
   "outputs": [
    {
     "name": "stdout",
     "output_type": "stream",
     "text": [
      "please enter how many numbers do you want to put?-->3\n",
      "enter the number20\n",
      "enter the number25\n",
      "enter the number55\n",
      "5\n"
     ]
    }
   ],
   "source": [
    "#taking user input\n",
    "number=int(input(\"please enter how many numbers do you want to put?-->\"))\n",
    "lists=[]\n",
    "for i in range(number):\n",
    "    lists.append(int(input(\"enter the number\")))\n",
    "#finding the divisors of given numbers\n",
    "d={}\n",
    "prime=[]\n",
    "l=[]\n",
    "#checking all the numbers are prime or not\n",
    "for i in range(len(lists)):\n",
    "    l.append([])\n",
    "for i in range(len(lists)):\n",
    "    for j in range(2,lists[i]):\n",
    "        if lists[i]%j==0:\n",
    "            prime.append(\"Not Prime\")\n",
    "        break\n",
    "    if \"Not Prime\" in prime:\n",
    "        #finding divisors\n",
    "        for k in range(2,lists[i]+1):\n",
    "            if lists[i]%k==0:\n",
    "                l[i].append(k)\n",
    "            \n",
    "    else:\n",
    "        print(\"Since given all numbers are prime so GCD Will be 1!\")\n",
    "    d[f\"Divisors of {lists[i]}\"]=l[i]\n",
    "\n",
    "GCD=[]\n",
    "for i in range(len(l[0])):\n",
    "    loop=[]\n",
    "    for j in range(len(l)-1):\n",
    "        if l[0][i] in l[j+1]:\n",
    "            loop.append(\"Yes\")\n",
    "    if len(loop)==len(l)-1:\n",
    "        GCD.append(l[0][i])\n",
    "if GCD==[]:\n",
    "    print(1)\n",
    "else:\n",
    "    print(max(GCD))"
   ]
  },
  {
   "cell_type": "markdown",
   "id": "c6c12043",
   "metadata": {},
   "source": [
    "### 3.\tWrite a Python Program to Convert Decimal to Binary, Octal and Hexadecimal?"
   ]
  },
  {
   "cell_type": "code",
   "execution_count": 178,
   "id": "b2824aa8",
   "metadata": {},
   "outputs": [
    {
     "name": "stdout",
     "output_type": "stream",
     "text": [
      "please enter your decimal number-->254\n",
      "Do you want to do binary or hexadecimal or octal-->?hexa\n",
      "Hexa Decimal--> EF\n"
     ]
    }
   ],
   "source": [
    "user_input=int(input(\"please enter your decimal number-->\"))\n",
    "hexadecimal_list={}\n",
    "for i in range(16):\n",
    "    d[i]=i\n",
    "for i in d.values():\n",
    "    if i==10:\n",
    "        d[i]=\"A\"\n",
    "    elif i==11:\n",
    "        d[i]=\"B\"\n",
    "    elif i==12:\n",
    "        d[i]=\"C\"\n",
    "    elif i==13:\n",
    "        d[i]=\"D\"\n",
    "    elif i==14:\n",
    "        d[i]=\"E\"\n",
    "    elif i==15:\n",
    "        d[i]=\"F\"\n",
    "    else:\n",
    "        d[i]=i\n",
    "\n",
    "ask=input(\"Do you want to do binary or hexadecimal or octal-->?\")\n",
    "if ask==\"binary\":\n",
    "    binary=\"\"\n",
    "    while 0!=user_input:\n",
    "        binary=binary+str(user_input%2)\n",
    "        user_input=int(user_input/2)\n",
    "    print(\"Binary-->\",binary[::-1])\n",
    "elif ask==\"octal\":\n",
    "    octal=\"\"\n",
    "    while 0!=user_input:\n",
    "        octal=octal+str(user_input%8)\n",
    "        user_input=int(user_input/8)\n",
    "    print(\"octal-->\",octal[::-1])\n",
    "elif ask==\"hexa\":\n",
    "    hexa=[]\n",
    "    answer=\"\"\n",
    "    while user_input!=0:\n",
    "        hexa.append(str(int(user_input%16)))\n",
    "        user_input=int(user_input/16)\n",
    "    for i in range(len(hexa)):\n",
    "        hexa[i]=d[int(hexa[i])]\n",
    "    for i in hexa:\n",
    "        answer=answer+str(i)\n",
    "    print(\"Hexa Decimal-->\",answer)"
   ]
  },
  {
   "cell_type": "markdown",
   "id": "d2f4ca80",
   "metadata": {},
   "source": [
    "### 4.\tWrite a Python Program To Find ASCII value of a character?"
   ]
  },
  {
   "cell_type": "code",
   "execution_count": 184,
   "id": "4526001f",
   "metadata": {},
   "outputs": [
    {
     "name": "stdout",
     "output_type": "stream",
     "text": [
      "Please enter your character:--> ineur0n\n",
      "Ascii Characters are ['i', 'n', 'e', 'u', 'r', 'n']\n"
     ]
    }
   ],
   "source": [
    "import string\n",
    "result=string.ascii_letters\n",
    "asci=[]\n",
    "value=input(\"Please enter your character:--> \")\n",
    "for i in value:\n",
    "    if i in result:\n",
    "        asci.append(i)\n",
    "print(f\"Ascii Characters are {asci}\")"
   ]
  },
  {
   "cell_type": "markdown",
   "id": "ea7775ff",
   "metadata": {},
   "source": [
    "### 5.\tWrite a Python Program to Make a Simple Calculator with 4 basic mathematical operations?"
   ]
  },
  {
   "cell_type": "code",
   "execution_count": 216,
   "id": "19c3438b",
   "metadata": {},
   "outputs": [],
   "source": [
    "def addition(*args):\n",
    "    add=0\n",
    "    for i in args:\n",
    "        add=add+i\n",
    "    return add\n",
    "def divide(*args):\n",
    "    div=1\n",
    "    for i in args:\n",
    "        div=i/div\n",
    "    return div\n",
    "def substraction(*args):\n",
    "    subs=0\n",
    "    for i in args:\n",
    "        subs=i-subs\n",
    "    return subs\n",
    "def multiply(*args):\n",
    "    mul=1\n",
    "    for i in args:\n",
    "        mul=mul*i\n",
    "    return mul\n",
    "def calc(a1,a2,opt):\n",
    "    if opt==\"add\":\n",
    "        return addition(a1,a2)\n",
    "    elif opt==\"substraction\":\n",
    "        return substraction(a1,a2)\n",
    "    elif opt==\"div\":\n",
    "        return divide(a1,a2)\n",
    "    else:\n",
    "        return multiply(a1,a2)"
   ]
  },
  {
   "cell_type": "code",
   "execution_count": 218,
   "id": "d3094608",
   "metadata": {},
   "outputs": [
    {
     "data": {
      "text/plain": [
       "1.2"
      ]
     },
     "execution_count": 218,
     "metadata": {},
     "output_type": "execute_result"
    }
   ],
   "source": [
    "calc(10,12,\"div\")"
   ]
  },
  {
   "cell_type": "code",
   "execution_count": null,
   "id": "e62e3252",
   "metadata": {},
   "outputs": [],
   "source": []
  }
 ],
 "metadata": {
  "kernelspec": {
   "display_name": "Python 3 (ipykernel)",
   "language": "python",
   "name": "python3"
  },
  "language_info": {
   "codemirror_mode": {
    "name": "ipython",
    "version": 3
   },
   "file_extension": ".py",
   "mimetype": "text/x-python",
   "name": "python",
   "nbconvert_exporter": "python",
   "pygments_lexer": "ipython3",
   "version": "3.9.7"
  }
 },
 "nbformat": 4,
 "nbformat_minor": 5
}
