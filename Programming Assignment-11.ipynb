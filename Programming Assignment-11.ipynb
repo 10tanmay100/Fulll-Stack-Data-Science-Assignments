{
 "cells": [
  {
   "cell_type": "code",
   "execution_count": 1,
   "metadata": {},
   "outputs": [
    {
     "name": "stdout",
     "output_type": "stream",
     "text": [
      "Object `k` not found.\n",
      "Object `string` not found.\n",
      "Object `string` not found.\n",
      "Object `not` not found.\n",
      "Object `Strings` not found.\n",
      "Object `string` not found.\n",
      "Object `character` not found.\n"
     ]
    }
   ],
   "source": [
    "1.\tWrite a Python program to find words which are greater than given length k?\n",
    "2.\tWrite a Python program for removing i-th character from a string?\n",
    "3.\tWrite a Python program to split and join a string?\n",
    "4.\tWrite a Python to check if a given string is binary string or not?\n",
    "5.\tWrite a Python program to find uncommon words from two Strings?\n",
    "6.\tWrite a Python to find all duplicate characters in string?\n",
    "7.\tWrite a Python Program to check if a string contains any special character?"
   ]
  },
  {
   "cell_type": "markdown",
   "metadata": {},
   "source": [
    "## 1.\tWrite a Python program to find words which are greater than given length k?"
   ]
  },
  {
   "cell_type": "code",
   "execution_count": 7,
   "metadata": {},
   "outputs": [
    {
     "data": {
      "text/plain": [
       "['Data Analytics', 'Machine Learning', 'Artificial Intelligence']"
      ]
     },
     "execution_count": 7,
     "metadata": {},
     "output_type": "execute_result"
    }
   ],
   "source": [
    "class find_words:\n",
    "    def __init__(self,words):\n",
    "        self.words=words\n",
    "    def find_word(self,length):\n",
    "        if type(self.words)==list:\n",
    "            l=[]\n",
    "            for vals in self.words:\n",
    "                if len(vals)>length:\n",
    "                    l.append(vals)\n",
    "            return l\n",
    "        else:\n",
    "            return \"Please enter a list\"\n",
    "f=find_words([\"Tanmay\",\"Ineuron\",\"Data Analytics\",\"Data Science\",\"Machine Learning\",\"Artificial Intelligence\"])\n",
    "f.find_word(12)        "
   ]
  },
  {
   "cell_type": "markdown",
   "metadata": {},
   "source": [
    "## 2.\tWrite a Python program for removing i-th character from a string?"
   ]
  },
  {
   "cell_type": "code",
   "execution_count": 13,
   "metadata": {},
   "outputs": [
    {
     "data": {
      "text/plain": [
       "'ata'"
      ]
     },
     "execution_count": 13,
     "metadata": {},
     "output_type": "execute_result"
    }
   ],
   "source": [
    "class remove_char:\n",
    "    def __init__(self,string):\n",
    "        self.string=string\n",
    "    def remove_c(self,i):\n",
    "        return self.string.replace(self.string[i],\"\")\n",
    "r=remove_char(\"data\")\n",
    "r.remove_c(0)"
   ]
  },
  {
   "cell_type": "markdown",
   "metadata": {},
   "source": [
    "## 3.\tWrite a Python program to split and join a string?"
   ]
  },
  {
   "cell_type": "code",
   "execution_count": 20,
   "metadata": {},
   "outputs": [
    {
     "data": {
      "text/plain": [
       "'MACHINE LEARNING'"
      ]
     },
     "execution_count": 20,
     "metadata": {},
     "output_type": "execute_result"
    }
   ],
   "source": [
    "class split_and_join:\n",
    "    def __init__(self,string):\n",
    "        self.string=string\n",
    "    def split_join(self,delimiter):\n",
    "        delimiter_l=self.string.split(delimiter)\n",
    "        return \"\".join(delimiter_l)\n",
    "s=split_and_join(\"M-A-C-H-I-N-E LEARNING\")\n",
    "s.split_join(\"-\")"
   ]
  },
  {
   "cell_type": "markdown",
   "metadata": {},
   "source": [
    "## 4.\tWrite a Python to check if a given string is binary string or not?"
   ]
  },
  {
   "cell_type": "code",
   "execution_count": 37,
   "metadata": {},
   "outputs": [
    {
     "data": {
      "text/plain": [
       "'Not a Binary'"
      ]
     },
     "execution_count": 37,
     "metadata": {},
     "output_type": "execute_result"
    }
   ],
   "source": [
    "class check_binary:\n",
    "    def __init__(self,string):\n",
    "        self.string=string\n",
    "    def binary(self):\n",
    "        l=[]\n",
    "        for i in self.string:\n",
    "            if i in [\"0\",\"1\"]:\n",
    "                l.append(i)\n",
    "        if len(l)==len(self.string):\n",
    "            return \"Binary\"\n",
    "        else:\n",
    "            return \"Not a Binary\"\n",
    "c=check_binary(\"0011@\")\n",
    "c.binary()"
   ]
  },
  {
   "cell_type": "markdown",
   "metadata": {},
   "source": [
    "## 5.\tWrite a Python program to find uncommon words from two Strings?"
   ]
  },
  {
   "cell_type": "code",
   "execution_count": 42,
   "metadata": {},
   "outputs": [
    {
     "data": {
      "text/plain": [
       "['p', 'd', 'j', 'i', 'g', 'r']"
      ]
     },
     "execution_count": 42,
     "metadata": {},
     "output_type": "execute_result"
    }
   ],
   "source": [
    "class check_uncommon:\n",
    "    def __init__(self,str1,str2):\n",
    "        self.str1=str1\n",
    "        self.str2=str2\n",
    "    def check_uncommon_word(self):\n",
    "        l1=[i for i in self.str1]\n",
    "        l2=[i for i in self.str2]\n",
    "        uncommon_str=[]\n",
    "        for i in l1:\n",
    "            if i not in l2:\n",
    "                uncommon_str.append(i)\n",
    "        for j in l2:\n",
    "            if j not in l1:\n",
    "                uncommon_str.append(j)\n",
    "        return uncommon_str\n",
    "\n",
    "c=check_uncommon(\"panda\",\"jingar\")\n",
    "c.check_uncommon_word()"
   ]
  },
  {
   "cell_type": "markdown",
   "metadata": {},
   "source": [
    "## 6.\tWrite a Python to find all duplicate characters in string?"
   ]
  },
  {
   "cell_type": "code",
   "execution_count": 47,
   "metadata": {},
   "outputs": [
    {
     "data": {
      "text/plain": [
       "['a']"
      ]
     },
     "execution_count": 47,
     "metadata": {},
     "output_type": "execute_result"
    }
   ],
   "source": [
    "class duplicate_chars:\n",
    "    def __init__(self,string):\n",
    "        self.string=string\n",
    "    def duplicate_str(self):\n",
    "        l=set([i for i in self.string])\n",
    "        lists=[]\n",
    "        for i in l:\n",
    "            if self.string.count(i)>1:\n",
    "                lists.append(i)\n",
    "        return lists\n",
    "l=duplicate_chars(\"paanda\")\n",
    "l.duplicate_str()\n",
    "        "
   ]
  },
  {
   "cell_type": "markdown",
   "metadata": {},
   "source": [
    "## 7.\tWrite a Python Program to check if a string contains any special character?"
   ]
  },
  {
   "cell_type": "code",
   "execution_count": 74,
   "metadata": {},
   "outputs": [
    {
     "data": {
      "text/plain": [
       "'no special character'"
      ]
     },
     "execution_count": 74,
     "metadata": {},
     "output_type": "execute_result"
    }
   ],
   "source": [
    "class find_special:\n",
    "    def __init__(self,string):\n",
    "        self.string=string\n",
    "    def got(self):\n",
    "        l=[]\n",
    "        for i in self.string:\n",
    "            if i.isalnum()==False:\n",
    "                l.append(i)\n",
    "        if len(l)==0:\n",
    "            return \"no special character\"\n",
    "        else:\n",
    "            return l\n",
    "d=find_special(\"123\")\n",
    "d.got()"
   ]
  },
  {
   "cell_type": "code",
   "execution_count": null,
   "metadata": {},
   "outputs": [],
   "source": []
  },
  {
   "cell_type": "code",
   "execution_count": null,
   "metadata": {},
   "outputs": [],
   "source": []
  }
 ],
 "metadata": {
  "kernelspec": {
   "display_name": "Python 3",
   "language": "python",
   "name": "python3"
  },
  "language_info": {
   "codemirror_mode": {
    "name": "ipython",
    "version": 3
   },
   "file_extension": ".py",
   "mimetype": "text/x-python",
   "name": "python",
   "nbconvert_exporter": "python",
   "pygments_lexer": "ipython3",
   "version": "3.8.5"
  }
 },
 "nbformat": 4,
 "nbformat_minor": 4
}
