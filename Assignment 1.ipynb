{
 "cells": [
  {
   "cell_type": "markdown",
   "id": "2706d7a6",
   "metadata": {},
   "source": [
    "### 1. In the below elements which of them are values or an expression? eg:- values can be integer or string and expressions will be mathematical operators.\n",
    "#### * \n",
    "#### 'hello'\n",
    "#### -87.8 \n",
    "#### / \n",
    "#### +\t\n",
    "#### 6 "
   ]
  },
  {
   "cell_type": "markdown",
   "id": "926f9a13",
   "metadata": {},
   "source": [
    "### Answer\n",
    "##### * would be a expression because it's a mathematical operator\n",
    "##### 'hello' would be a value because it's a string.\n",
    "##### 87.8 would be a value because it's a number.\n",
    "#### / would be a expression because it is a mathematical operator.\n",
    "#### + would be a expression because it is a mathematical operator.\n",
    "#### 6 would be a value because it is a number."
   ]
  },
  {
   "cell_type": "markdown",
   "id": "18d7b07d",
   "metadata": {},
   "source": [
    "### 2. What is the difference between string and variable?"
   ]
  },
  {
   "cell_type": "markdown",
   "id": "c05108de",
   "metadata": {},
   "source": [
    "#### Answer\n",
    "- String: It is nothing but character data type in python\n",
    "- variable: It is nothing but it can store anything. it is used for assigning purpose"
   ]
  },
  {
   "cell_type": "markdown",
   "id": "2eacb8f1",
   "metadata": {},
   "source": [
    "#### Coding Example"
   ]
  },
  {
   "cell_type": "code",
   "execution_count": 2,
   "id": "56232e3e",
   "metadata": {},
   "outputs": [
    {
     "data": {
      "text/plain": [
       "str"
      ]
     },
     "execution_count": 2,
     "metadata": {},
     "output_type": "execute_result"
    }
   ],
   "source": [
    "#string example\n",
    "type(\"Python Programming Language\")"
   ]
  },
  {
   "cell_type": "code",
   "execution_count": 3,
   "id": "a4b3fcca",
   "metadata": {},
   "outputs": [],
   "source": [
    "#variable example\n",
    "x=\"Computer\"\n",
    "y=\"ineuron\"\n",
    "#Here x and y are variables which have stored something and we have assigned them by x and y."
   ]
  },
  {
   "cell_type": "markdown",
   "id": "67cf0f3e",
   "metadata": {},
   "source": [
    "### 3. Describe three different data types."
   ]
  },
  {
   "cell_type": "markdown",
   "id": "c4b90d2d",
   "metadata": {},
   "source": [
    "#### Answers\n",
    "In Python following 3 data types are\n",
    "- string\n",
    "- integer\n",
    "- float"
   ]
  },
  {
   "cell_type": "markdown",
   "id": "698f8c4f",
   "metadata": {},
   "source": [
    "#### Coding Example"
   ]
  },
  {
   "cell_type": "code",
   "execution_count": 5,
   "id": "771b0976",
   "metadata": {},
   "outputs": [
    {
     "name": "stdout",
     "output_type": "stream",
     "text": [
      "<class 'str'>\n"
     ]
    }
   ],
   "source": [
    "#string\n",
    "string=\"Data\"\n",
    "print(type(string))"
   ]
  },
  {
   "cell_type": "code",
   "execution_count": 6,
   "id": "29b6d049",
   "metadata": {},
   "outputs": [
    {
     "name": "stdout",
     "output_type": "stream",
     "text": [
      "<class 'int'>\n"
     ]
    }
   ],
   "source": [
    "#integer\n",
    "integer=12\n",
    "print(type(integer))"
   ]
  },
  {
   "cell_type": "code",
   "execution_count": 7,
   "id": "7b037764",
   "metadata": {},
   "outputs": [
    {
     "name": "stdout",
     "output_type": "stream",
     "text": [
      "<class 'float'>\n"
     ]
    }
   ],
   "source": [
    "#float\n",
    "float_d=9.09\n",
    "print(type(float_d))"
   ]
  },
  {
   "cell_type": "markdown",
   "id": "5edf5a98",
   "metadata": {},
   "source": [
    "### 4. What is an expression made up of? What do all expressions do?"
   ]
  },
  {
   "cell_type": "markdown",
   "id": "30cc2f68",
   "metadata": {},
   "source": [
    "#### Answers\n",
    "Expressions are just mathematical operators such as +,-,* etc.\n",
    "They are used to do mathematical operations"
   ]
  },
  {
   "cell_type": "markdown",
   "id": "192f632c",
   "metadata": {},
   "source": [
    "#### Coding Examples"
   ]
  },
  {
   "cell_type": "code",
   "execution_count": 10,
   "id": "aa5f0f30",
   "metadata": {},
   "outputs": [
    {
     "name": "stdout",
     "output_type": "stream",
     "text": [
      "20\n"
     ]
    }
   ],
   "source": [
    "var1=10\n",
    "var2=10\n",
    "print(var1+var2)"
   ]
  },
  {
   "cell_type": "markdown",
   "id": "8d928db9",
   "metadata": {},
   "source": [
    "### 5. This assignment statements, like spam = 10. What is the difference between an expression and a statement?"
   ]
  },
  {
   "cell_type": "markdown",
   "id": "211742a9",
   "metadata": {},
   "source": [
    "#### Answers\n",
    "Statments means we are stating some thing here spam=10 which means we state that spam contains 10 and expression means \n",
    "if we do some mathematical operations with that spam value such as--"
   ]
  },
  {
   "cell_type": "markdown",
   "id": "5b083e11",
   "metadata": {},
   "source": [
    "#### Coding Examples"
   ]
  },
  {
   "cell_type": "code",
   "execution_count": 13,
   "id": "4db825cc",
   "metadata": {},
   "outputs": [
    {
     "name": "stdout",
     "output_type": "stream",
     "text": [
      "20\n"
     ]
    }
   ],
   "source": [
    "spam=10\n",
    "print(spam+10)#Here + is an expression"
   ]
  },
  {
   "cell_type": "markdown",
   "id": "25afbe6b",
   "metadata": {},
   "source": [
    "### 6.After running the following code, what does the variable bacon contain?\n",
    "bacon = 22 \n",
    "\n",
    "bacon + 1\n"
   ]
  },
  {
   "cell_type": "code",
   "execution_count": 14,
   "id": "dd124f4e",
   "metadata": {},
   "outputs": [
    {
     "name": "stdout",
     "output_type": "stream",
     "text": [
      "23\n"
     ]
    }
   ],
   "source": [
    "bacon=22\n",
    "print(bacon+1)"
   ]
  },
  {
   "cell_type": "markdown",
   "id": "c04963f3",
   "metadata": {},
   "source": [
    "### 7. What should the values of the following two terms be?\n",
    "'spam' + 'spamspam'\n",
    "\n",
    "\n",
    "'spam' * 3\n"
   ]
  },
  {
   "cell_type": "code",
   "execution_count": 15,
   "id": "a97078b0",
   "metadata": {},
   "outputs": [
    {
     "name": "stdout",
     "output_type": "stream",
     "text": [
      "spamspamspam\n",
      "spamspamspam\n"
     ]
    }
   ],
   "source": [
    "print(\"spam\"+\"spamspam\")\n",
    "print(\"spam\"*3)"
   ]
  },
  {
   "cell_type": "markdown",
   "id": "a28edc11",
   "metadata": {},
   "source": [
    "### 8. Why is eggs a valid variable name while 100 is invalid?"
   ]
  },
  {
   "cell_type": "markdown",
   "id": "a9e295d0",
   "metadata": {},
   "source": [
    "#### Answers\n",
    "eggs is valid variable because by python's syntax convention variables has to be start with a character or _ and others are not allowed that's why 100 is invalid because it is a number"
   ]
  },
  {
   "cell_type": "markdown",
   "id": "016cef10",
   "metadata": {},
   "source": [
    "### 9. What three functions can be used to get the integer, floating-point number, or string version of a value?"
   ]
  },
  {
   "cell_type": "code",
   "execution_count": 19,
   "id": "84a46848",
   "metadata": {},
   "outputs": [
    {
     "name": "stdout",
     "output_type": "stream",
     "text": [
      "string-->  10\n",
      "integer-->  10\n",
      "float-->  10.0\n"
     ]
    }
   ],
   "source": [
    "#string function\n",
    "print(\"string--> \",str(10))\n",
    "#integer function\n",
    "print(\"integer--> \",int(\"10\"))\n",
    "#float function\n",
    "print(\"float--> \",float(10))"
   ]
  },
  {
   "cell_type": "markdown",
   "id": "9adbef3a",
   "metadata": {},
   "source": [
    "### 10. Why does this expression cause an error? How can you fix it?\n",
    "'I have eaten ' + 99 + ' burritos.'\n"
   ]
  },
  {
   "cell_type": "markdown",
   "id": "19e5783d",
   "metadata": {},
   "source": [
    "#### Answers\n",
    "It is a issue because 99 is a integer and we can't concat string and integer.\n",
    "What we have to do convert this 99 to string"
   ]
  },
  {
   "cell_type": "markdown",
   "id": "3eb727e7",
   "metadata": {},
   "source": [
    "#### Coding Example"
   ]
  },
  {
   "cell_type": "code",
   "execution_count": 21,
   "id": "1beb6930",
   "metadata": {},
   "outputs": [
    {
     "data": {
      "text/plain": [
       "'I have eaten 99 burritos'"
      ]
     },
     "execution_count": 21,
     "metadata": {},
     "output_type": "execute_result"
    }
   ],
   "source": [
    "\"I have eaten \" + str(99) + \" burritos\""
   ]
  },
  {
   "cell_type": "code",
   "execution_count": null,
   "id": "4dad9add",
   "metadata": {},
   "outputs": [],
   "source": []
  },
  {
   "cell_type": "code",
   "execution_count": null,
   "id": "ac5646f2",
   "metadata": {},
   "outputs": [],
   "source": []
  },
  {
   "cell_type": "code",
   "execution_count": null,
   "id": "f01ef27a",
   "metadata": {},
   "outputs": [],
   "source": []
  },
  {
   "cell_type": "code",
   "execution_count": null,
   "id": "94265b21",
   "metadata": {},
   "outputs": [],
   "source": []
  },
  {
   "cell_type": "code",
   "execution_count": null,
   "id": "271cf7f5",
   "metadata": {},
   "outputs": [],
   "source": []
  },
  {
   "cell_type": "code",
   "execution_count": null,
   "id": "ad682782",
   "metadata": {},
   "outputs": [],
   "source": []
  },
  {
   "cell_type": "code",
   "execution_count": null,
   "id": "9df135dd",
   "metadata": {},
   "outputs": [],
   "source": []
  },
  {
   "cell_type": "code",
   "execution_count": null,
   "id": "aa35a60a",
   "metadata": {},
   "outputs": [],
   "source": []
  },
  {
   "cell_type": "code",
   "execution_count": null,
   "id": "ed45c0f3",
   "metadata": {},
   "outputs": [],
   "source": []
  },
  {
   "cell_type": "code",
   "execution_count": null,
   "id": "dc17c1c8",
   "metadata": {},
   "outputs": [],
   "source": []
  },
  {
   "cell_type": "code",
   "execution_count": null,
   "id": "7624d017",
   "metadata": {},
   "outputs": [],
   "source": []
  },
  {
   "cell_type": "code",
   "execution_count": null,
   "id": "da409a2d",
   "metadata": {},
   "outputs": [],
   "source": []
  },
  {
   "cell_type": "code",
   "execution_count": null,
   "id": "ed4c5b2d",
   "metadata": {},
   "outputs": [],
   "source": []
  }
 ],
 "metadata": {
  "kernelspec": {
   "display_name": "Python 3 (ipykernel)",
   "language": "python",
   "name": "python3"
  },
  "language_info": {
   "codemirror_mode": {
    "name": "ipython",
    "version": 3
   },
   "file_extension": ".py",
   "mimetype": "text/x-python",
   "name": "python",
   "nbconvert_exporter": "python",
   "pygments_lexer": "ipython3",
   "version": "3.9.7"
  }
 },
 "nbformat": 4,
 "nbformat_minor": 5
}
