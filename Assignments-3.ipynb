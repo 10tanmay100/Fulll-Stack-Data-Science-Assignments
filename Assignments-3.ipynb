{
 "cells": [
  {
   "cell_type": "markdown",
   "id": "3dddcbe4",
   "metadata": {},
   "source": [
    "### 1. Why are functions advantageous to have in your programs?"
   ]
  },
  {
   "cell_type": "markdown",
   "id": "c5731d21",
   "metadata": {},
   "source": [
    "- Functions are useful because it might be possible we have to use some codes daily in our work and every time use the long code become tidious so instead of doing this we can put inside a  function ans we call it when we need that code."
   ]
  },
  {
   "cell_type": "markdown",
   "id": "e57de4d5",
   "metadata": {},
   "source": [
    "### 2. When does the code in a function run: when it's specified or when it's called?"
   ]
  },
  {
   "cell_type": "code",
   "execution_count": 1,
   "id": "832c900e",
   "metadata": {},
   "outputs": [
    {
     "data": {
      "text/plain": [
       "30"
      ]
     },
     "execution_count": 1,
     "metadata": {},
     "output_type": "execute_result"
    }
   ],
   "source": [
    "#create a function\n",
    "def add(a,b):\n",
    "    return a+b\n",
    "#calling function\n",
    "add(10,20)"
   ]
  },
  {
   "cell_type": "markdown",
   "id": "5a069ce6",
   "metadata": {},
   "source": [
    "### 3. What statement creates a function?"
   ]
  },
  {
   "cell_type": "markdown",
   "id": "68d190b4",
   "metadata": {},
   "source": [
    "- def statement creates function"
   ]
  },
  {
   "cell_type": "markdown",
   "id": "4ac2b2b9",
   "metadata": {},
   "source": [
    "### 4. What is the difference between a function and a function call?"
   ]
  },
  {
   "cell_type": "code",
   "execution_count": 2,
   "id": "8f3b933b",
   "metadata": {},
   "outputs": [
    {
     "data": {
      "text/plain": [
       "200"
      ]
     },
     "execution_count": 2,
     "metadata": {},
     "output_type": "execute_result"
    }
   ],
   "source": [
    "#function example\n",
    "def mul(a,b):\n",
    "    return a*b\n",
    "#function call-->Here we call the mul function with the arguments which we have specified in mul function above.\n",
    "mul(10,20)"
   ]
  },
  {
   "cell_type": "markdown",
   "id": "2168a4db",
   "metadata": {},
   "source": [
    "### 5. How many global scopes are there in a Python program? How many local scopes?"
   ]
  },
  {
   "cell_type": "markdown",
   "id": "f0bbaa8b",
   "metadata": {},
   "source": [
    "- We have one global and one local scope in python and in the below i will show you by some example"
   ]
  },
  {
   "cell_type": "code",
   "execution_count": 3,
   "id": "7f0557cc",
   "metadata": {},
   "outputs": [
    {
     "name": "stdout",
     "output_type": "stream",
     "text": [
      "Local x 10\n",
      "100\n"
     ]
    }
   ],
   "source": [
    "x=100 # x is a variable\n",
    "def func(x):\n",
    "    x=10 #here x is local varibale in the func function\n",
    "    return x#it will return the local x value \n",
    "print(\"Local x\",func(x))\n",
    "print(x)#this is a variable which is outside the function"
   ]
  },
  {
   "cell_type": "code",
   "execution_count": 12,
   "id": "fbf9c8e8",
   "metadata": {},
   "outputs": [
    {
     "name": "stdout",
     "output_type": "stream",
     "text": [
      "10\n"
     ]
    }
   ],
   "source": [
    "x=100 #here it is a variable\n",
    "def func():\n",
    "    global x\n",
    "    x=10#this x is now global varibale it means now when we call it we can get x inside function and outside as well\n",
    "    return x\n",
    "func()\n",
    "print(x)"
   ]
  },
  {
   "cell_type": "markdown",
   "id": "c1a85e95",
   "metadata": {},
   "source": [
    "### 6. What happens to variables in a local scope when the function call returns?"
   ]
  },
  {
   "cell_type": "markdown",
   "id": "8a308043",
   "metadata": {},
   "source": [
    "- Function will return the local scope variable"
   ]
  },
  {
   "cell_type": "markdown",
   "id": "8ed2e250",
   "metadata": {},
   "source": [
    "### 7. What is the concept of a return value? Is it possible to have a return value in an expression?"
   ]
  },
  {
   "cell_type": "markdown",
   "id": "83725781",
   "metadata": {},
   "source": [
    "- Return will return us a value and we can use it in function because if we use print in function then the output will not be used in future calculations but the output of the return expression give us that much power to use that output in further calculations"
   ]
  },
  {
   "cell_type": "code",
   "execution_count": 14,
   "id": "b8b22cfe",
   "metadata": {},
   "outputs": [
    {
     "name": "stdout",
     "output_type": "stream",
     "text": [
      "10\n"
     ]
    }
   ],
   "source": [
    "#example print\n",
    "def a():\n",
    "    print(10)\n",
    "a()"
   ]
  },
  {
   "cell_type": "code",
   "execution_count": 16,
   "id": "343f1303",
   "metadata": {},
   "outputs": [
    {
     "data": {
      "text/plain": [
       "20"
      ]
     },
     "execution_count": 16,
     "metadata": {},
     "output_type": "execute_result"
    }
   ],
   "source": [
    "#example return \n",
    "def a():\n",
    "    return 20\n",
    "a()"
   ]
  },
  {
   "cell_type": "markdown",
   "id": "2c04b67b",
   "metadata": {},
   "source": [
    "### 8. If a function does not have a return statement, what is the return value of a call to that function?"
   ]
  },
  {
   "cell_type": "markdown",
   "id": "9661ace5",
   "metadata": {},
   "source": [
    "- It will return nothing when we call it"
   ]
  },
  {
   "cell_type": "code",
   "execution_count": 17,
   "id": "8ec207a3",
   "metadata": {},
   "outputs": [],
   "source": [
    "#example\n",
    "def a():\n",
    "    pass\n",
    "a()"
   ]
  },
  {
   "cell_type": "markdown",
   "id": "5071051c",
   "metadata": {},
   "source": [
    "### 9. How do you make a function variable refer to the global variable?"
   ]
  },
  {
   "cell_type": "code",
   "execution_count": 18,
   "id": "15a7e9c3",
   "metadata": {},
   "outputs": [
    {
     "name": "stdout",
     "output_type": "stream",
     "text": [
      "Global x 10\n"
     ]
    }
   ],
   "source": [
    "def func():\n",
    "    global x\n",
    "    x=10#this x is now global varibale it means now when we call it we can get x inside function and outside as well\n",
    "    return x\n",
    "func()\n",
    "print(\"Global x\",x)"
   ]
  },
  {
   "cell_type": "markdown",
   "id": "8a2706e9",
   "metadata": {},
   "source": [
    "### 10. What is the data type of None?"
   ]
  },
  {
   "cell_type": "code",
   "execution_count": 19,
   "id": "c3ba691c",
   "metadata": {},
   "outputs": [
    {
     "data": {
      "text/plain": [
       "NoneType"
      ]
     },
     "execution_count": 19,
     "metadata": {},
     "output_type": "execute_result"
    }
   ],
   "source": [
    "type(None)"
   ]
  },
  {
   "cell_type": "markdown",
   "id": "4d6abfbb",
   "metadata": {},
   "source": [
    "### 11. What does the sentence import areallyourpetsnamederic do?"
   ]
  },
  {
   "cell_type": "code",
   "execution_count": 20,
   "id": "149c25ed",
   "metadata": {},
   "outputs": [
    {
     "ename": "ModuleNotFoundError",
     "evalue": "No module named 'areallyourpetsnamederic'",
     "output_type": "error",
     "traceback": [
      "\u001b[1;31m---------------------------------------------------------------------------\u001b[0m",
      "\u001b[1;31mModuleNotFoundError\u001b[0m                       Traceback (most recent call last)",
      "\u001b[1;32mC:\\Users\\TANMAY~1\\AppData\\Local\\Temp/ipykernel_7340/51184242.py\u001b[0m in \u001b[0;36m<module>\u001b[1;34m\u001b[0m\n\u001b[1;32m----> 1\u001b[1;33m \u001b[1;32mimport\u001b[0m \u001b[0mareallyourpetsnamederic\u001b[0m\u001b[1;33m\u001b[0m\u001b[1;33m\u001b[0m\u001b[0m\n\u001b[0m",
      "\u001b[1;31mModuleNotFoundError\u001b[0m: No module named 'areallyourpetsnamederic'"
     ]
    }
   ],
   "source": [
    "import areallyourpetsnamederic"
   ]
  },
  {
   "cell_type": "markdown",
   "id": "beb6f38e",
   "metadata": {},
   "source": [
    "### 12. If you had a bacon() feature in a spam module, what would you call it after importing spam?"
   ]
  },
  {
   "cell_type": "code",
   "execution_count": 22,
   "id": "a7ee59fd",
   "metadata": {},
   "outputs": [],
   "source": [
    "#importing spam module\n",
    "import spam"
   ]
  },
  {
   "cell_type": "code",
   "execution_count": 23,
   "id": "fd1b8d43",
   "metadata": {},
   "outputs": [
    {
     "data": {
      "text/plain": [
       "'Bacon module'"
      ]
     },
     "execution_count": 23,
     "metadata": {},
     "output_type": "execute_result"
    }
   ],
   "source": [
    "#call function from spam module\n",
    "spam.bacon()"
   ]
  },
  {
   "cell_type": "markdown",
   "id": "4b050c62",
   "metadata": {},
   "source": [
    "### 13. What can you do to save a programme from crashing if it encounters an error?"
   ]
  },
  {
   "cell_type": "markdown",
   "id": "029f796e",
   "metadata": {},
   "source": [
    "- We can use try and except to save my programme"
   ]
  },
  {
   "cell_type": "code",
   "execution_count": 24,
   "id": "701ecfa8",
   "metadata": {},
   "outputs": [
    {
     "data": {
      "text/plain": [
       "'Error'"
      ]
     },
     "execution_count": 24,
     "metadata": {},
     "output_type": "execute_result"
    }
   ],
   "source": [
    "#example\n",
    "def div(a,b):\n",
    "    try:\n",
    "        return (a/b)\n",
    "    except:\n",
    "        return \"Error\"\n",
    "div(10,0)"
   ]
  },
  {
   "cell_type": "markdown",
   "id": "423feee8",
   "metadata": {},
   "source": [
    "### 14. What is the purpose of the try clause? What is the purpose of the except clause?"
   ]
  },
  {
   "cell_type": "markdown",
   "id": "2d195d2b",
   "metadata": {},
   "source": [
    "- Purpose of try is to try to run the code if it has no error then the except statement will not run and if the code which is under try throw error then the except statement will run"
   ]
  },
  {
   "cell_type": "code",
   "execution_count": null,
   "id": "7a4a678f",
   "metadata": {},
   "outputs": [],
   "source": []
  },
  {
   "cell_type": "code",
   "execution_count": null,
   "id": "dc95dc0f",
   "metadata": {},
   "outputs": [],
   "source": []
  },
  {
   "cell_type": "code",
   "execution_count": null,
   "id": "0e49085a",
   "metadata": {},
   "outputs": [],
   "source": []
  },
  {
   "cell_type": "code",
   "execution_count": null,
   "id": "78c935e7",
   "metadata": {},
   "outputs": [],
   "source": []
  },
  {
   "cell_type": "code",
   "execution_count": null,
   "id": "806c47ef",
   "metadata": {},
   "outputs": [],
   "source": []
  },
  {
   "cell_type": "code",
   "execution_count": null,
   "id": "10af64ba",
   "metadata": {},
   "outputs": [],
   "source": []
  },
  {
   "cell_type": "code",
   "execution_count": null,
   "id": "beaaef40",
   "metadata": {},
   "outputs": [],
   "source": []
  },
  {
   "cell_type": "code",
   "execution_count": null,
   "id": "ecab867c",
   "metadata": {},
   "outputs": [],
   "source": []
  },
  {
   "cell_type": "code",
   "execution_count": null,
   "id": "503bafe0",
   "metadata": {},
   "outputs": [],
   "source": []
  },
  {
   "cell_type": "code",
   "execution_count": null,
   "id": "33a0c2a7",
   "metadata": {},
   "outputs": [],
   "source": []
  },
  {
   "cell_type": "code",
   "execution_count": null,
   "id": "cae42ebf",
   "metadata": {},
   "outputs": [],
   "source": []
  },
  {
   "cell_type": "code",
   "execution_count": null,
   "id": "1d472f39",
   "metadata": {},
   "outputs": [],
   "source": []
  },
  {
   "cell_type": "code",
   "execution_count": null,
   "id": "8a27e933",
   "metadata": {},
   "outputs": [],
   "source": []
  },
  {
   "cell_type": "code",
   "execution_count": null,
   "id": "4fd61c62",
   "metadata": {},
   "outputs": [],
   "source": []
  },
  {
   "cell_type": "code",
   "execution_count": null,
   "id": "4c931436",
   "metadata": {},
   "outputs": [],
   "source": []
  },
  {
   "cell_type": "code",
   "execution_count": null,
   "id": "a9065556",
   "metadata": {},
   "outputs": [],
   "source": []
  },
  {
   "cell_type": "code",
   "execution_count": null,
   "id": "25729411",
   "metadata": {},
   "outputs": [],
   "source": []
  }
 ],
 "metadata": {
  "kernelspec": {
   "display_name": "Python 3 (ipykernel)",
   "language": "python",
   "name": "python3"
  },
  "language_info": {
   "codemirror_mode": {
    "name": "ipython",
    "version": 3
   },
   "file_extension": ".py",
   "mimetype": "text/x-python",
   "name": "python",
   "nbconvert_exporter": "python",
   "pygments_lexer": "ipython3",
   "version": "3.9.7"
  }
 },
 "nbformat": 4,
 "nbformat_minor": 5
}
