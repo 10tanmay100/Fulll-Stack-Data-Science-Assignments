{
 "cells": [
  {
   "cell_type": "markdown",
   "id": "14d13f0b",
   "metadata": {},
   "source": [
    "### 1. What does an empty dictionary's code look like?"
   ]
  },
  {
   "cell_type": "code",
   "execution_count": 1,
   "id": "fba27f2f",
   "metadata": {},
   "outputs": [
    {
     "data": {
      "text/plain": [
       "dict"
      ]
     },
     "execution_count": 1,
     "metadata": {},
     "output_type": "execute_result"
    }
   ],
   "source": [
    "#let's create an empty dictionary\n",
    "d={}\n",
    "#confirming empty dictionary\n",
    "type(d)"
   ]
  },
  {
   "cell_type": "markdown",
   "id": "6a3b0158",
   "metadata": {},
   "source": [
    "### 2. What is the value of a dictionary value with the key 'foo' and the value 42?"
   ]
  },
  {
   "cell_type": "code",
   "execution_count": 2,
   "id": "3913f3d3",
   "metadata": {},
   "outputs": [
    {
     "name": "stdout",
     "output_type": "stream",
     "text": [
      "{'foo': 42}\n"
     ]
    }
   ],
   "source": [
    "#creating a dictionary\n",
    "dict1={\"foo\":42}\n",
    "print(dict1)"
   ]
  },
  {
   "cell_type": "markdown",
   "id": "bcb14d17",
   "metadata": {},
   "source": [
    "### 3. What is the most significant distinction between a dictionary and a list?"
   ]
  },
  {
   "cell_type": "markdown",
   "id": "8709dc08",
   "metadata": {},
   "source": [
    "- Dictionary contains Key value pair data but in lists we cannot store key value data instead of that we put data seprated by comma\n"
   ]
  },
  {
   "cell_type": "code",
   "execution_count": 4,
   "id": "3c7e775e",
   "metadata": {},
   "outputs": [
    {
     "name": "stdout",
     "output_type": "stream",
     "text": [
      "{'Name': 'Tanmay', 'Age': 12}\n",
      "[1, 2, 3, 4, 'Pythn']\n"
     ]
    }
   ],
   "source": [
    "#example of dictionary\n",
    "dict1={\"Name\":\"Tanmay\",\"Age\":12}\n",
    "print(dict1)\n",
    "#example of lists\n",
    "list1=[1,2,3,4,\"Pythn\"]\n",
    "print(list1)"
   ]
  },
  {
   "cell_type": "markdown",
   "id": "a06ddc76",
   "metadata": {},
   "source": [
    "### 4. What happens if you try to access spam['foo'] if spam is {'bar': 100}?"
   ]
  },
  {
   "cell_type": "code",
   "execution_count": 5,
   "id": "88ba5457",
   "metadata": {},
   "outputs": [
    {
     "ename": "KeyError",
     "evalue": "'foo'",
     "output_type": "error",
     "traceback": [
      "\u001b[1;31m---------------------------------------------------------------------------\u001b[0m",
      "\u001b[1;31mKeyError\u001b[0m                                  Traceback (most recent call last)",
      "\u001b[1;32mC:\\Users\\TANMAY~1\\AppData\\Local\\Temp/ipykernel_13408/178719693.py\u001b[0m in \u001b[0;36m<module>\u001b[1;34m\u001b[0m\n\u001b[0;32m      1\u001b[0m \u001b[0mspam\u001b[0m\u001b[1;33m=\u001b[0m\u001b[1;33m{\u001b[0m\u001b[1;34m\"bar\"\u001b[0m\u001b[1;33m:\u001b[0m\u001b[1;36m100\u001b[0m\u001b[1;33m}\u001b[0m\u001b[1;33m\u001b[0m\u001b[1;33m\u001b[0m\u001b[0m\n\u001b[1;32m----> 2\u001b[1;33m \u001b[0mspam\u001b[0m\u001b[1;33m[\u001b[0m\u001b[1;34m\"foo\"\u001b[0m\u001b[1;33m]\u001b[0m\u001b[1;33m\u001b[0m\u001b[1;33m\u001b[0m\u001b[0m\n\u001b[0m",
      "\u001b[1;31mKeyError\u001b[0m: 'foo'"
     ]
    }
   ],
   "source": [
    "# we should see error because foo is not in the key of spam dict\n",
    "spam={\"bar\":100}\n",
    "spam[\"foo\"]"
   ]
  },
  {
   "cell_type": "markdown",
   "id": "4b6747f5",
   "metadata": {},
   "source": [
    "### 5. If a dictionary is stored in spam, what is the difference between the expressions 'cat' in spam and 'cat' in spam.keys()?"
   ]
  },
  {
   "cell_type": "markdown",
   "id": "4cb05399",
   "metadata": {},
   "source": [
    "- if cat in spam.keys() it means cat is a key in the dictionary"
   ]
  },
  {
   "cell_type": "code",
   "execution_count": 9,
   "id": "a365d000",
   "metadata": {},
   "outputs": [
    {
     "name": "stdout",
     "output_type": "stream",
     "text": [
      "123\n",
      "dict_keys(['cat', 'dog'])\n"
     ]
    }
   ],
   "source": [
    "#let's define a dictionary\n",
    "spam={\"cat\":\"123\",\"dog\":\"234\"}\n",
    "#first case\n",
    "print(spam[\"cat\"])\n",
    "#second case\n",
    "print(spam.keys())# It returns all the keys in dictionary"
   ]
  },
  {
   "cell_type": "markdown",
   "id": "c0bbe458",
   "metadata": {},
   "source": [
    "### 6. If a dictionary is stored in spam, what is the difference between the expressions 'cat' in spam and 'cat' in spam.values()?"
   ]
  },
  {
   "cell_type": "markdown",
   "id": "aecd5130",
   "metadata": {},
   "source": [
    "- If cat in spam means it could be a key or value and if cat in spam.values() that means it is a value in the dictionary"
   ]
  },
  {
   "cell_type": "code",
   "execution_count": 10,
   "id": "59294d55",
   "metadata": {},
   "outputs": [
    {
     "name": "stdout",
     "output_type": "stream",
     "text": [
      "dict_values(['cat', 'dog'])\n"
     ]
    }
   ],
   "source": [
    "#let's define a dictionary\n",
    "spam={\"123\":\"cat\",\"234\":\"dog\"}\n",
    "print(spam.values())"
   ]
  },
  {
   "cell_type": "markdown",
   "id": "8fdc26e0",
   "metadata": {},
   "source": [
    "### 7. What is a shortcut for the following code?\n",
    "- if 'color' not in spam:\n",
    "- spam['color'] = 'black'\n"
   ]
  },
  {
   "cell_type": "code",
   "execution_count": 14,
   "id": "aa01d4cc",
   "metadata": {},
   "outputs": [],
   "source": [
    "spam={\"color\":\"red\"}"
   ]
  },
  {
   "cell_type": "code",
   "execution_count": 16,
   "id": "a5801f1d",
   "metadata": {},
   "outputs": [],
   "source": [
    "if \"color\" in spam: spam[\"color\"]=\"black\""
   ]
  },
  {
   "cell_type": "code",
   "execution_count": 17,
   "id": "b0ac80da",
   "metadata": {},
   "outputs": [
    {
     "data": {
      "text/plain": [
       "{'color': 'black'}"
      ]
     },
     "execution_count": 17,
     "metadata": {},
     "output_type": "execute_result"
    }
   ],
   "source": [
    "spam"
   ]
  },
  {
   "cell_type": "code",
   "execution_count": 18,
   "id": "7e2a679c",
   "metadata": {},
   "outputs": [],
   "source": [
    "from pprint import pprint"
   ]
  },
  {
   "cell_type": "markdown",
   "id": "8b189cd2",
   "metadata": {},
   "source": [
    "### 8. How do you \"pretty print\" dictionary values using which module and function?"
   ]
  },
  {
   "cell_type": "markdown",
   "id": "80e79e39",
   "metadata": {},
   "source": [
    "- pretty print is in pprint module and pprint is a function which prints dictionary in a structure way"
   ]
  },
  {
   "cell_type": "code",
   "execution_count": 23,
   "id": "5cc236a3",
   "metadata": {},
   "outputs": [
    {
     "data": {
      "text/plain": [
       "{'Name': [1, 2, 3], 'Age': [10, 20, 30], 'score': [1, 2, 3, 3]}"
      ]
     },
     "execution_count": 23,
     "metadata": {},
     "output_type": "execute_result"
    }
   ],
   "source": [
    "spam={\"Name\":[1,2,3],\"Age\":[10,20,30]\n",
    "     ,\"score\":[1,2,3,3]}\n",
    "spam"
   ]
  },
  {
   "cell_type": "code",
   "execution_count": null,
   "id": "b3f92a89",
   "metadata": {},
   "outputs": [],
   "source": []
  }
 ],
 "metadata": {
  "kernelspec": {
   "display_name": "Python 3 (ipykernel)",
   "language": "python",
   "name": "python3"
  },
  "language_info": {
   "codemirror_mode": {
    "name": "ipython",
    "version": 3
   },
   "file_extension": ".py",
   "mimetype": "text/x-python",
   "name": "python",
   "nbconvert_exporter": "python",
   "pygments_lexer": "ipython3",
   "version": "3.9.7"
  }
 },
 "nbformat": 4,
 "nbformat_minor": 5
}
