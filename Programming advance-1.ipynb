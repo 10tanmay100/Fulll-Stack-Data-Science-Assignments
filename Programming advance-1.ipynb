{
 "cells": [
  {
   "cell_type": "raw",
   "id": "f34cb7e2",
   "metadata": {},
   "source": [
    "1. Write a function that takes a list of lists and returns the value of all of the symbols in it, where each symbol adds or takes something from the total score. Symbol values:\n",
    "\n",
    "# = 5\n",
    "O = 3\n",
    "X = 1\n",
    "! = -1\n",
    "!! = -3\n",
    "!!! = -5\n",
    "\n",
    "A list of lists containing 2 #s, a O, and a !!! would equal (0 + 5 + 5 + 3 - 5) 8.\n",
    "If the final score is negative, return 0 (e.g. 3 #s, 3 !!s, 2 !!!s and a X would be (0 + 5 + 5 + 5 - 3 - 3 - 3 - 5 - 5 + 1) -3, so return 0.\n",
    "\n",
    "Examples\n",
    "\n",
    "check_score([\n",
    "  [\"#\", \"!\"],\n",
    "  [\"!!\", \"X\"]\n",
    "]) ➞ 2\n",
    "\n",
    "check_score([\n",
    "  [\"!!!\", \"O\", \"!\"],\n",
    "  [\"X\", \"#\", \"!!!\"],\n",
    "  [\"!!\", \"X\", \"O\"]\n",
    "]) ➞ -1\n",
    "\n"
   ]
  },
  {
   "cell_type": "code",
   "execution_count": 4,
   "id": "7171ff4e",
   "metadata": {},
   "outputs": [
    {
     "data": {
      "text/plain": [
       "2"
      ]
     },
     "execution_count": 4,
     "metadata": {},
     "output_type": "execute_result"
    }
   ],
   "source": [
    "def check_score(lists):\n",
    "    answer=0\n",
    "    d={\"#\":5,\"O\":3,\"X\":1,\"!\":-1,\"!!\":-3,\"!!!\":-5}\n",
    "    for i in range(len(lists)):\n",
    "        for j in range(len(lists[i])):\n",
    "            answer=answer+(d[lists[i][j]])\n",
    "    return answer\n",
    "check_score([\n",
    "  [\"#\", \"!\"],\n",
    "  [\"!!\", \"X\"]\n",
    "])"
   ]
  },
  {
   "cell_type": "code",
   "execution_count": 5,
   "id": "9b2b6ce4",
   "metadata": {},
   "outputs": [
    {
     "data": {
      "text/plain": [
       "-1"
      ]
     },
     "execution_count": 5,
     "metadata": {},
     "output_type": "execute_result"
    }
   ],
   "source": [
    "check_score([\n",
    "  [\"!!!\", \"O\", \"!\"],\n",
    "  [\"X\", \"#\", \"!!!\"],\n",
    "  [\"!!\", \"X\", \"O\"]\n",
    "])"
   ]
  },
  {
   "cell_type": "raw",
   "id": "87afedf1",
   "metadata": {},
   "source": [
    "2. Create a function that takes a variable number of arguments, each argument representing the number of items in a group, and returns the number of permutations (combinations) of items that you could get by taking one item from each group.\n",
    "\n",
    "Examples\n",
    "\n",
    "combinations(2, 3) ➞ 6\n",
    "\n",
    "combinations(3, 7, 4) ➞ 84\n",
    "\n",
    "combinations(2, 3, 4, 5) ➞ 120\n"
   ]
  },
  {
   "cell_type": "code",
   "execution_count": 10,
   "id": "4ca618b2",
   "metadata": {},
   "outputs": [
    {
     "data": {
      "text/plain": [
       "6"
      ]
     },
     "execution_count": 10,
     "metadata": {},
     "output_type": "execute_result"
    }
   ],
   "source": [
    "def combinations(*args):\n",
    "    answer=1\n",
    "    for i in args:\n",
    "        answer=answer*i\n",
    "    return answer\n",
    "combinations(2,3)"
   ]
  },
  {
   "cell_type": "raw",
   "id": "c9510559",
   "metadata": {},
   "source": [
    "3. Create a function that takes a string as an argument and returns the Morse code equivalent.\n",
    "\n",
    "Examples\n",
    "\n",
    "encode_morse(\"EDABBIT CHALLENGE\") ➞ \". -.. .- -... -... .. -   -.-. .... .- .-.. .-.. . -. --. .\"\n",
    "\n",
    "encode_morse(\"HELP ME !\") ➞ \".... . .-.. .--.   -- .   -.-.--\"\n",
    "\n",
    "This dictionary can be used for coding:\n",
    "\n",
    "char_to_dots = {\n",
    "  'A': '.-', 'B': '-...', 'C': '-.-.', 'D': '-..', 'E': '.', 'F': '..-.',\n",
    "  'G': '--.', 'H': '....', 'I': '..', 'J': '.---', 'K': '-.-', 'L': '.-..',\n",
    "  'M': '--', 'N': '-.', 'O': '---', 'P': '.--.', 'Q': '--.-', 'R': '.-.',\n",
    "  'S': '...', 'T': '-', 'U': '..-', 'V': '...-', 'W': '.--', 'X': '-..-',\n",
    "  'Y': '-.--', 'Z': '--..', ' ': ' ', '0': '-----',\n",
    "  '1': '.----', '2': '..---', '3': '...--', '4': '....-', '5': '.....',\n",
    "  '6': '-....', '7': '--...', '8': '---..', '9': '----.',\n",
    "  '&': '.-...', \"'\": '.----.', '@': '.--.-.', ')': '-.--.-', '(': '-.--.',\n",
    "  ':': '---...', ',': '--..--', '=': '-...-', '!': '-.-.--', '.': '.-.-.-',\n",
    "  '-': '-....-', '+': '.-.-.', '\"': '.-..-.', '?': '..--..', '/': '-..-.'\n",
    "}\n"
   ]
  },
  {
   "cell_type": "code",
   "execution_count": 13,
   "id": "6dce0b8b",
   "metadata": {},
   "outputs": [
    {
     "data": {
      "text/plain": [
       "'.-...--...-.....- -.-......-.-...-...-.--..'"
      ]
     },
     "execution_count": 13,
     "metadata": {},
     "output_type": "execute_result"
    }
   ],
   "source": [
    "def encode_morse(text):\n",
    "    t=\"\"\n",
    "    char_to_dots = {\n",
    "  'A': '.-', 'B': '-...', 'C': '-.-.', 'D': '-..', 'E': '.', 'F': '..-.',\n",
    "  'G': '--.', 'H': '....', 'I': '..', 'J': '.---', 'K': '-.-', 'L': '.-..',\n",
    "  'M': '--', 'N': '-.', 'O': '---', 'P': '.--.', 'Q': '--.-', 'R': '.-.',\n",
    "  'S': '...', 'T': '-', 'U': '..-', 'V': '...-', 'W': '.--', 'X': '-..-',\n",
    "  'Y': '-.--', 'Z': '--..', ' ': ' ', '0': '-----',\n",
    "  '1': '.----', '2': '..---', '3': '...--', '4': '....-', '5': '.....',\n",
    "  '6': '-....', '7': '--...', '8': '---..', '9': '----.',\n",
    "  '&': '.-...', \"'\": '.----.', '@': '.--.-.', ')': '-.--.-', '(': '-.--.',\n",
    "  ':': '---...', ',': '--..--', '=': '-...-', '!': '-.-.--', '.': '.-.-.-',\n",
    "  '-': '-....-', '+': '.-.-.', '\"': '.-..-.', '?': '..--..', '/': '-..-.'\n",
    "    }\n",
    "    for i in range(len(text)):\n",
    "        t=t+char_to_dots[text[i]]\n",
    "    return t\n",
    "    \n",
    "encode_morse(\"EDABBIT CHALLENGE\")"
   ]
  },
  {
   "cell_type": "raw",
   "id": "3073dc83",
   "metadata": {},
   "source": [
    "4.  Write a function that takes a number and returns True if it's a prime; False otherwise. The number can be 2^64-1 (2 to the power of 63, not XOR). With the standard technique it would be O(2^64-1), which is much too large for the 10 second time limit.\n",
    "\n",
    "Examples\n",
    "\n",
    "prime(7) ➞ True\n",
    "\n",
    "prime(56963) ➞ True\n",
    "\n",
    "prime(5151512515524) ➞ False"
   ]
  },
  {
   "cell_type": "code",
   "execution_count": 21,
   "id": "f2a41fc4",
   "metadata": {},
   "outputs": [],
   "source": [
    "def prime(num):\n",
    "    ans=True\n",
    "    for i in range(2,num):\n",
    "        if num%i==0:\n",
    "            ans=False\n",
    "        break\n",
    "    return ans"
   ]
  },
  {
   "cell_type": "code",
   "execution_count": 22,
   "id": "93dd0628",
   "metadata": {},
   "outputs": [
    {
     "data": {
      "text/plain": [
       "True"
      ]
     },
     "execution_count": 22,
     "metadata": {},
     "output_type": "execute_result"
    }
   ],
   "source": [
    "prime(7)"
   ]
  },
  {
   "cell_type": "code",
   "execution_count": 23,
   "id": "0ddccdea",
   "metadata": {},
   "outputs": [
    {
     "data": {
      "text/plain": [
       "True"
      ]
     },
     "execution_count": 23,
     "metadata": {},
     "output_type": "execute_result"
    }
   ],
   "source": [
    "prime(56963)"
   ]
  },
  {
   "cell_type": "raw",
   "id": "8dd3397b",
   "metadata": {},
   "source": [
    "prime(5151512515524)"
   ]
  },
  {
   "cell_type": "raw",
   "id": "e9bd68ac",
   "metadata": {},
   "source": [
    "5.  Create a function that converts a word to a bitstring and then to a boolean list based on the following criteria:\n",
    "\n",
    "    1. Locate the position of the letter in the English alphabet (from 1 to 26).\n",
    "    2. Odd positions will be represented as 1 and 0 otherwise.\n",
    "    3. Convert the represented positions to boolean values, 1 for True and 0 for False.\n",
    "    4. Store the conversions into an array.\n",
    "\n",
    " Examples\n",
    "\n",
    "to_boolean_list(\"deep\") ➞ [False, True, True, False]\n",
    "# deep converts to 0110\n",
    "# d is the 4th alphabet - 0\n",
    "# e is the 5th alphabet - 1\n",
    "# e is the 5th alphabet - 1\n",
    "# p is the 16th alphabet - 0\n",
    "\n",
    "to_boolean_list(\"loves\") ➞ [False, True, False, True, True]\n",
    "\n",
    "to_boolean_list(\"tesh\") ➞ [False, True, True, False]\n"
   ]
  },
  {
   "cell_type": "code",
   "execution_count": 8,
   "id": "be3e93ff",
   "metadata": {},
   "outputs": [],
   "source": [
    "class to_boolean_list:\n",
    "    def __init__(self,name):\n",
    "        self.n=name\n",
    "    def convert(self):\n",
    "        upper_alpha_list=[\"A\",\"B\",\"C\",\"D\",\"E\",\"F\",\"G\",\"H\",\"I\",\"J\",\"K\",\"L\",\"M\",\"N\",\"O\",\"P\",\"Q\",\"R\",\"S\",\"T\",\"U\",\"V\",\"W\",'X',\"Y\",\"Z\"]\n",
    "        lower_alpha_list=[\"a\",\"b\",\"c\",\"d\",\"e\",\"f\",\"g\",\"h\",\"i\",\"j\",\"k\",\"l\",\"m\",\"n\",\"o\",\"p\",\"q\",\"r\",\"s\",\"t\",\"u\",\"v\",\"w\",'x',\"y\",\"z\"]\n",
    "        l=[]\n",
    "        for vals in range(len(self.n)):\n",
    "            if self.n[vals].isupper():\n",
    "                if (upper_alpha_list.index(self.n[vals])+1)%2!=0:\n",
    "                    l.append(True)\n",
    "                else:\n",
    "                    l.append(False)\n",
    "            else:\n",
    "                if (lower_alpha_list.index(self.n[vals])+1)%2!=0:\n",
    "                    l.append(True)\n",
    "                else:\n",
    "                    l.append(False)\n",
    "        return l\n",
    "            "
   ]
  },
  {
   "cell_type": "code",
   "execution_count": 9,
   "id": "3eb124dd",
   "metadata": {},
   "outputs": [
    {
     "data": {
      "text/plain": [
       "[False, True, False, True]"
      ]
     },
     "execution_count": 9,
     "metadata": {},
     "output_type": "execute_result"
    }
   ],
   "source": [
    "f=to_boolean_list(\"love\")\n",
    "f.convert()"
   ]
  },
  {
   "cell_type": "code",
   "execution_count": null,
   "id": "9190efbf",
   "metadata": {},
   "outputs": [],
   "source": []
  },
  {
   "cell_type": "code",
   "execution_count": null,
   "id": "1dec1d22",
   "metadata": {},
   "outputs": [],
   "source": []
  },
  {
   "cell_type": "code",
   "execution_count": null,
   "id": "f6d147b0",
   "metadata": {},
   "outputs": [],
   "source": []
  },
  {
   "cell_type": "code",
   "execution_count": null,
   "id": "c773ab57",
   "metadata": {},
   "outputs": [],
   "source": []
  },
  {
   "cell_type": "code",
   "execution_count": null,
   "id": "02037752",
   "metadata": {},
   "outputs": [],
   "source": []
  },
  {
   "cell_type": "code",
   "execution_count": null,
   "id": "51b8ecda",
   "metadata": {},
   "outputs": [],
   "source": []
  },
  {
   "cell_type": "code",
   "execution_count": null,
   "id": "b31da628",
   "metadata": {},
   "outputs": [],
   "source": []
  },
  {
   "cell_type": "code",
   "execution_count": null,
   "id": "a98095e0",
   "metadata": {},
   "outputs": [],
   "source": []
  },
  {
   "cell_type": "code",
   "execution_count": null,
   "id": "f5e063bc",
   "metadata": {},
   "outputs": [],
   "source": []
  },
  {
   "cell_type": "code",
   "execution_count": null,
   "id": "10ba055b",
   "metadata": {},
   "outputs": [],
   "source": []
  },
  {
   "cell_type": "code",
   "execution_count": null,
   "id": "f6797f58",
   "metadata": {},
   "outputs": [],
   "source": []
  },
  {
   "cell_type": "code",
   "execution_count": null,
   "id": "edeb4fd5",
   "metadata": {},
   "outputs": [],
   "source": []
  },
  {
   "cell_type": "code",
   "execution_count": null,
   "id": "fc0a5056",
   "metadata": {},
   "outputs": [],
   "source": []
  },
  {
   "cell_type": "code",
   "execution_count": null,
   "id": "f13c607a",
   "metadata": {},
   "outputs": [],
   "source": []
  },
  {
   "cell_type": "code",
   "execution_count": null,
   "id": "cdf05e5e",
   "metadata": {},
   "outputs": [],
   "source": []
  },
  {
   "cell_type": "code",
   "execution_count": null,
   "id": "8041c559",
   "metadata": {},
   "outputs": [],
   "source": []
  },
  {
   "cell_type": "code",
   "execution_count": null,
   "id": "99d0eafb",
   "metadata": {},
   "outputs": [],
   "source": []
  }
 ],
 "metadata": {
  "kernelspec": {
   "display_name": "Python 3 (ipykernel)",
   "language": "python",
   "name": "python3"
  },
  "language_info": {
   "codemirror_mode": {
    "name": "ipython",
    "version": 3
   },
   "file_extension": ".py",
   "mimetype": "text/x-python",
   "name": "python",
   "nbconvert_exporter": "python",
   "pygments_lexer": "ipython3",
   "version": "3.9.7"
  }
 },
 "nbformat": 4,
 "nbformat_minor": 5
}
