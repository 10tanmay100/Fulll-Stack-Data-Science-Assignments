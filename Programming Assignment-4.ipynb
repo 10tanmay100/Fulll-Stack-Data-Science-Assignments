{
 "cells": [
  {
   "cell_type": "markdown",
   "id": "bb639f1c",
   "metadata": {},
   "source": [
    "### 1.\tWrite a Python Program to Find the Factorial of a Number?"
   ]
  },
  {
   "cell_type": "code",
   "execution_count": 7,
   "id": "059a8e71",
   "metadata": {},
   "outputs": [
    {
     "name": "stdout",
     "output_type": "stream",
     "text": [
      "Please enter your number--> 5\n",
      "120\n"
     ]
    }
   ],
   "source": [
    "#taking integer input from an user\n",
    "number=int(input(\"Please enter your number--> \"))\n",
    "result=1\n",
    "for i in range(1,number+1):\n",
    "    result=result*i\n",
    "print(result)"
   ]
  },
  {
   "cell_type": "markdown",
   "id": "bc740c03",
   "metadata": {},
   "source": [
    "### 2.\tWrite a Python Program to Display the multiplication Table?"
   ]
  },
  {
   "cell_type": "code",
   "execution_count": 9,
   "id": "26f1419e",
   "metadata": {},
   "outputs": [
    {
     "name": "stdout",
     "output_type": "stream",
     "text": [
      "Please put whose multiplication table do you want to see?-->12\n",
      "Upto which number do you want to create multiplication table?--> 20\n",
      "12*1= 12\n",
      "12*2= 24\n",
      "12*3= 36\n",
      "12*4= 48\n",
      "12*5= 60\n",
      "12*6= 72\n",
      "12*7= 84\n",
      "12*8= 96\n",
      "12*9= 108\n",
      "12*10= 120\n",
      "12*11= 132\n",
      "12*12= 144\n",
      "12*13= 156\n",
      "12*14= 168\n",
      "12*15= 180\n",
      "12*16= 192\n",
      "12*17= 204\n",
      "12*18= 216\n",
      "12*19= 228\n",
      "12*20= 240\n"
     ]
    }
   ],
   "source": [
    "#taking user integer input\n",
    "number=int(input(\"Please put whose multiplication table do you want to see?-->\"))\n",
    "limit=int(input(\"Upto which number do you want to create multiplication table?--> \"))\n",
    "#using loops \n",
    "for i in range(1,limit+1):\n",
    "    print(f\"{number}*{i}=\",number*i)\n"
   ]
  },
  {
   "cell_type": "markdown",
   "id": "e8365a93",
   "metadata": {},
   "source": [
    "### 3.\tWrite a Python Program to Print the Fibonacci sequence?"
   ]
  },
  {
   "cell_type": "code",
   "execution_count": 10,
   "id": "1d3c0725",
   "metadata": {},
   "outputs": [
    {
     "name": "stdout",
     "output_type": "stream",
     "text": [
      "tell me the length of your fibonacchi series>--> 5\n",
      "Your Fibonacchi Series-->[0, 1, 1, 2, 3]\n"
     ]
    }
   ],
   "source": [
    "#taking user integer input\n",
    "number=int(input(\"tell me the length of your fibonacchi series>--> \"))\n",
    "#applying loops and condition\n",
    "l=[0,1]\n",
    "if number==2:\n",
    "    print(f\"Your Fibonacchi Series-->{l}\")\n",
    "else:\n",
    "    for i in range(number-2):\n",
    "        l.append(l[i]+l[i+1])\n",
    "    print(f\"Your Fibonacchi Series-->{l}\")"
   ]
  },
  {
   "cell_type": "markdown",
   "id": "ac71b6d7",
   "metadata": {},
   "source": [
    "### 4.\tWrite a Python Program to Check Armstrong Number?"
   ]
  },
  {
   "cell_type": "code",
   "execution_count": 13,
   "id": "3a306228",
   "metadata": {},
   "outputs": [
    {
     "name": "stdout",
     "output_type": "stream",
     "text": [
      "Please enter your number--> 153\n",
      "It is an armstrong number!!\n"
     ]
    }
   ],
   "source": [
    "#taking integer input from the user\n",
    "number=int(input(\"Please enter your number--> \"))\n",
    "answer=0\n",
    "#using loop\n",
    "for i in range(len(str(number))):\n",
    "    answer=answer+int(str(number)[i])**3\n",
    "#using condition to check number is armstrong or not\n",
    "if answer==number:\n",
    "    print(\"It is an armstrong number!!\")\n",
    "else:\n",
    "    print(\"It is not an armstrong number!!\")\n"
   ]
  },
  {
   "cell_type": "markdown",
   "id": "e38a2caa",
   "metadata": {},
   "source": [
    "### 5.\tWrite a Python Program to Find Armstrong Number in an Interval?"
   ]
  },
  {
   "cell_type": "code",
   "execution_count": 26,
   "id": "fed78f7b",
   "metadata": {},
   "outputs": [
    {
     "name": "stdout",
     "output_type": "stream",
     "text": [
      "please enter your lower bound--> 100\n",
      "please enter your upper bound--> 200\n",
      "153\n",
      "[153]\n"
     ]
    }
   ],
   "source": [
    "#taking interval input from the user\n",
    "lower_bound=int(input(\"please enter your lower bound--> \"))\n",
    "upper_bound=int(input(\"please enter your upper bound--> \"))\n",
    "armstrong_numbers=[]\n",
    "#using conditions\n",
    "if (lower_bound>upper_bound) or (len(str(lower_bound))!=3) or (len(str(upper_bound))!=3):\n",
    "    print(\"please put the interval correctly!! you're supposed to put lower_bound<upper_bound and must be 3 characters!!!\")    \n",
    "else:\n",
    "    #using loops\n",
    "    for i in range(lower_bound,upper_bound+1):\n",
    "        answer=0\n",
    "        for j in range(len(str(i))):\n",
    "            answer=answer+int(str(i)[j])**3\n",
    "        if answer==i:\n",
    "            armstrong_numbers.append(i)\n",
    "            print(answer)\n",
    "        else:\n",
    "            pass\n",
    "\n",
    "print(armstrong_numbers)"
   ]
  },
  {
   "cell_type": "markdown",
   "id": "5d14e92b",
   "metadata": {},
   "source": [
    "### 6.\tWrite a Python Program to Find the Sum of Natural Numbers?"
   ]
  },
  {
   "cell_type": "code",
   "execution_count": 27,
   "id": "72e40689",
   "metadata": {},
   "outputs": [],
   "source": [
    "#defining sums of natural number function\n",
    "def sums_of_n(*args):\n",
    "    for i in args:\n",
    "        if type(i)!=int:\n",
    "            return \"It's not a natural number!\"\n",
    "    return sum(args)"
   ]
  },
  {
   "cell_type": "code",
   "execution_count": 30,
   "id": "753e8309",
   "metadata": {},
   "outputs": [
    {
     "data": {
      "text/plain": [
       "\"It's not a natural number!\""
      ]
     },
     "execution_count": 30,
     "metadata": {},
     "output_type": "execute_result"
    }
   ],
   "source": [
    "sums_of_n(1,0.36,3)"
   ]
  },
  {
   "cell_type": "code",
   "execution_count": 31,
   "id": "bd7b172d",
   "metadata": {},
   "outputs": [
    {
     "data": {
      "text/plain": [
       "6"
      ]
     },
     "execution_count": 31,
     "metadata": {},
     "output_type": "execute_result"
    }
   ],
   "source": [
    "sums_of_n(1,2,3)"
   ]
  },
  {
   "cell_type": "code",
   "execution_count": null,
   "id": "f0b93bcb",
   "metadata": {},
   "outputs": [],
   "source": []
  },
  {
   "cell_type": "code",
   "execution_count": null,
   "id": "1d8e1552",
   "metadata": {},
   "outputs": [],
   "source": []
  },
  {
   "cell_type": "code",
   "execution_count": null,
   "id": "4cb138cb",
   "metadata": {},
   "outputs": [],
   "source": []
  },
  {
   "cell_type": "code",
   "execution_count": null,
   "id": "a25255f4",
   "metadata": {},
   "outputs": [],
   "source": []
  },
  {
   "cell_type": "code",
   "execution_count": null,
   "id": "d570eef2",
   "metadata": {},
   "outputs": [],
   "source": []
  }
 ],
 "metadata": {
  "kernelspec": {
   "display_name": "Python 3 (ipykernel)",
   "language": "python",
   "name": "python3"
  },
  "language_info": {
   "codemirror_mode": {
    "name": "ipython",
    "version": 3
   },
   "file_extension": ".py",
   "mimetype": "text/x-python",
   "name": "python",
   "nbconvert_exporter": "python",
   "pygments_lexer": "ipython3",
   "version": "3.9.7"
  }
 },
 "nbformat": 4,
 "nbformat_minor": 5
}
