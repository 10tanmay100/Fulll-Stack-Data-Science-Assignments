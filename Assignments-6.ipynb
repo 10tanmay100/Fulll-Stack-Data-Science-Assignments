{
 "cells": [
  {
   "cell_type": "markdown",
   "id": "04f97b1a",
   "metadata": {},
   "source": [
    "### 1. What are escape characters, and how do you use them?"
   ]
  },
  {
   "cell_type": "markdown",
   "id": "6ea7ea1f",
   "metadata": {},
   "source": [
    "- \" \\ \" this sequence is called escape characters which can be used \\n means newline"
   ]
  },
  {
   "cell_type": "code",
   "execution_count": 2,
   "id": "cb233c4e",
   "metadata": {},
   "outputs": [
    {
     "name": "stdout",
     "output_type": "stream",
     "text": [
      "This is python and \n",
      " this is new line\n"
     ]
    }
   ],
   "source": [
    "print(\"This is python and \\n this is new line\")"
   ]
  },
  {
   "cell_type": "markdown",
   "id": "e5924438",
   "metadata": {},
   "source": [
    "### 2. What do the escape characters n and t stand for?"
   ]
  },
  {
   "cell_type": "markdown",
   "id": "029e4484",
   "metadata": {},
   "source": [
    "- \"n\" means the new line \n",
    "- \"t\" means tab"
   ]
  },
  {
   "cell_type": "code",
   "execution_count": 3,
   "id": "0780d4fe",
   "metadata": {},
   "outputs": [
    {
     "name": "stdout",
     "output_type": "stream",
     "text": [
      "This is python and \n",
      " this is new line\n",
      "This is python and \t this is tap\n"
     ]
    }
   ],
   "source": [
    "print(\"This is python and \\n this is new line\")\n",
    "print(\"This is python and \\t this is tap\")"
   ]
  },
  {
   "cell_type": "markdown",
   "id": "14220b09",
   "metadata": {},
   "source": [
    "### 3. What is the way to include backslash characters in a string?"
   ]
  },
  {
   "cell_type": "code",
   "execution_count": 11,
   "id": "fe951671",
   "metadata": {},
   "outputs": [
    {
     "name": "stdout",
     "output_type": "stream",
     "text": [
      "This is python and ' \\ 'n\n"
     ]
    }
   ],
   "source": [
    "print(\"This is python and ' \\ 'n\")"
   ]
  },
  {
   "cell_type": "markdown",
   "id": "64b8cadf",
   "metadata": {},
   "source": [
    "### 4. The string \"Howl's Moving Castle\" is a correct value. Why isn't the single quote character in the word Howl's not escaped a problem?"
   ]
  },
  {
   "cell_type": "markdown",
   "id": "52459f92",
   "metadata": {},
   "source": [
    "- Because we have used double to quotes to cover the entire data to string"
   ]
  },
  {
   "cell_type": "code",
   "execution_count": 12,
   "id": "ae19c80c",
   "metadata": {},
   "outputs": [],
   "source": [
    "string=\"How's Moving Castle\"\n",
    "#another way\n",
    "string='How\\'s Moving Castle'"
   ]
  },
  {
   "cell_type": "markdown",
   "id": "92cfb084",
   "metadata": {},
   "source": [
    "### 5. How do you write a string of newlines if you don't want to use the n character?"
   ]
  },
  {
   "cell_type": "code",
   "execution_count": 28,
   "id": "12bb161a",
   "metadata": {},
   "outputs": [
    {
     "name": "stdout",
     "output_type": "stream",
     "text": [
      "Python\n",
      "newline\n"
     ]
    }
   ],
   "source": [
    "print(\"Python\")\n",
    "print(\"newline\")"
   ]
  },
  {
   "cell_type": "markdown",
   "id": "068d10f3",
   "metadata": {},
   "source": [
    "### 6. What are the values of the given expressions?\n",
    "- 'Hello, world!'[1]\n",
    "- 'Hello, world!'[0:5]\n",
    "- 'Hello, world!'[:5]\n",
    "- 'Hello, world!'[3:]\n"
   ]
  },
  {
   "cell_type": "code",
   "execution_count": 30,
   "id": "804a5f33",
   "metadata": {},
   "outputs": [
    {
     "name": "stdout",
     "output_type": "stream",
     "text": [
      "e\n",
      "Hello\n",
      "Hello\n",
      "lo, world!\n"
     ]
    }
   ],
   "source": [
    "s1=\"Hello, world!\"\n",
    "print(s1[1])\n",
    "print(s1[0:5])\n",
    "print(s1[:5])\n",
    "print(s1[3:])"
   ]
  },
  {
   "cell_type": "markdown",
   "id": "0a3309b5",
   "metadata": {},
   "source": [
    "### 7. What are the values of the following expressions?\n",
    "- 'Hello'.upper()\n",
    "- 'Hello'.upper().isupper()\n",
    "- 'Hello'.upper().lower()\n"
   ]
  },
  {
   "cell_type": "code",
   "execution_count": 31,
   "id": "e1c387e3",
   "metadata": {},
   "outputs": [
    {
     "data": {
      "text/plain": [
       "'HELLO'"
      ]
     },
     "execution_count": 31,
     "metadata": {},
     "output_type": "execute_result"
    }
   ],
   "source": [
    "\"Hello\".upper()"
   ]
  },
  {
   "cell_type": "code",
   "execution_count": 32,
   "id": "a0aa2bff",
   "metadata": {},
   "outputs": [
    {
     "data": {
      "text/plain": [
       "True"
      ]
     },
     "execution_count": 32,
     "metadata": {},
     "output_type": "execute_result"
    }
   ],
   "source": [
    "\"Hello\".upper().isupper()"
   ]
  },
  {
   "cell_type": "code",
   "execution_count": 33,
   "id": "d5906d07",
   "metadata": {},
   "outputs": [
    {
     "data": {
      "text/plain": [
       "'hello'"
      ]
     },
     "execution_count": 33,
     "metadata": {},
     "output_type": "execute_result"
    }
   ],
   "source": [
    "\"Hello\".upper().lower()"
   ]
  },
  {
   "cell_type": "markdown",
   "id": "5559cc61",
   "metadata": {},
   "source": [
    "### 8. What are the values of the following expressions?\n",
    "- 'Remember, remember, the fifth of July.'.split()\n",
    "- '-'.join('There can only one.'.split())\n"
   ]
  },
  {
   "cell_type": "code",
   "execution_count": 35,
   "id": "131cd536",
   "metadata": {},
   "outputs": [
    {
     "name": "stdout",
     "output_type": "stream",
     "text": [
      "['Remember,', 'remember,', 'the', 'fifth', 'of', 'July']\n"
     ]
    },
    {
     "data": {
      "text/plain": [
       "'There-can-only-be'"
      ]
     },
     "execution_count": 35,
     "metadata": {},
     "output_type": "execute_result"
    }
   ],
   "source": [
    "string=\"Remember, remember, the fifth of July\"\n",
    "print(string.split())\n",
    "\"-\".join(\"There can only be\".split())"
   ]
  },
  {
   "cell_type": "markdown",
   "id": "8e66d860",
   "metadata": {},
   "source": [
    "### 9. What are the methods for right-justifying, left-justifying, and centering a string?"
   ]
  },
  {
   "cell_type": "code",
   "execution_count": 45,
   "id": "5cd18021",
   "metadata": {},
   "outputs": [
    {
     "name": "stdout",
     "output_type": "stream",
     "text": [
      "center     Tell  \n",
      "left justifying   Tell      \n",
      "Right justifying         Tell\n"
     ]
    }
   ],
   "source": [
    "string=\"  Tell\"\n",
    "print(\"center\",string.center(10))\n",
    "print(\"left justifying\",string.ljust(12))\n",
    "print(\"Right justifying\",string.rjust(12))"
   ]
  },
  {
   "cell_type": "markdown",
   "id": "162b4c21",
   "metadata": {},
   "source": [
    "### 10. What is the best way to remove whitespace characters from the start or end?"
   ]
  },
  {
   "cell_type": "markdown",
   "id": "ab584ca4",
   "metadata": {},
   "source": [
    "- We can use strip "
   ]
  },
  {
   "cell_type": "code",
   "execution_count": 46,
   "id": "7dd38728",
   "metadata": {},
   "outputs": [
    {
     "data": {
      "text/plain": [
       "'python'"
      ]
     },
     "execution_count": 46,
     "metadata": {},
     "output_type": "execute_result"
    }
   ],
   "source": [
    "string=\" python  \"\n",
    "string.strip()"
   ]
  },
  {
   "cell_type": "code",
   "execution_count": null,
   "id": "f539f18f",
   "metadata": {},
   "outputs": [],
   "source": []
  },
  {
   "cell_type": "code",
   "execution_count": null,
   "id": "2ffea284",
   "metadata": {},
   "outputs": [],
   "source": []
  },
  {
   "cell_type": "code",
   "execution_count": null,
   "id": "892d6ffa",
   "metadata": {},
   "outputs": [],
   "source": []
  },
  {
   "cell_type": "code",
   "execution_count": null,
   "id": "4e9a058a",
   "metadata": {},
   "outputs": [],
   "source": []
  },
  {
   "cell_type": "code",
   "execution_count": null,
   "id": "c0415104",
   "metadata": {},
   "outputs": [],
   "source": []
  },
  {
   "cell_type": "code",
   "execution_count": null,
   "id": "888aebd7",
   "metadata": {},
   "outputs": [],
   "source": []
  }
 ],
 "metadata": {
  "kernelspec": {
   "display_name": "Python 3 (ipykernel)",
   "language": "python",
   "name": "python3"
  },
  "language_info": {
   "codemirror_mode": {
    "name": "ipython",
    "version": 3
   },
   "file_extension": ".py",
   "mimetype": "text/x-python",
   "name": "python",
   "nbconvert_exporter": "python",
   "pygments_lexer": "ipython3",
   "version": "3.9.7"
  }
 },
 "nbformat": 4,
 "nbformat_minor": 5
}
