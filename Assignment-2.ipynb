{
 "cells": [
  {
   "cell_type": "markdown",
   "id": "60c09e7d",
   "metadata": {},
   "source": [
    "### 1.What are the two values of the Boolean data type? How do you write them?"
   ]
  },
  {
   "cell_type": "code",
   "execution_count": 1,
   "id": "149772e1",
   "metadata": {},
   "outputs": [
    {
     "data": {
      "text/plain": [
       "False"
      ]
     },
     "execution_count": 1,
     "metadata": {},
     "output_type": "execute_result"
    }
   ],
   "source": [
    "#first boolean types\n",
    "True\n",
    "#seconf boolean types\n",
    "False"
   ]
  },
  {
   "cell_type": "markdown",
   "id": "b05fc8da",
   "metadata": {},
   "source": [
    "### 2. What are the three different types of Boolean operators?"
   ]
  },
  {
   "cell_type": "markdown",
   "id": "3db1b643",
   "metadata": {},
   "source": [
    "#### different operators\n",
    "and,or,not"
   ]
  },
  {
   "cell_type": "markdown",
   "id": "f3781329",
   "metadata": {},
   "source": [
    "#### Example of and"
   ]
  },
  {
   "cell_type": "code",
   "execution_count": 11,
   "id": "f3ba270f",
   "metadata": {},
   "outputs": [
    {
     "data": {
      "text/plain": [
       "False"
      ]
     },
     "execution_count": 11,
     "metadata": {},
     "output_type": "execute_result"
    }
   ],
   "source": [
    "True and False"
   ]
  },
  {
   "cell_type": "markdown",
   "id": "a7309978",
   "metadata": {},
   "source": [
    "#### Example of or"
   ]
  },
  {
   "cell_type": "code",
   "execution_count": 12,
   "id": "1e5067b9",
   "metadata": {},
   "outputs": [
    {
     "data": {
      "text/plain": [
       "True"
      ]
     },
     "execution_count": 12,
     "metadata": {},
     "output_type": "execute_result"
    }
   ],
   "source": [
    "True or False"
   ]
  },
  {
   "cell_type": "markdown",
   "id": "677f7a05",
   "metadata": {},
   "source": [
    "#### Example of Not"
   ]
  },
  {
   "cell_type": "code",
   "execution_count": 13,
   "id": "263559c5",
   "metadata": {},
   "outputs": [
    {
     "data": {
      "text/plain": [
       "False"
      ]
     },
     "execution_count": 13,
     "metadata": {},
     "output_type": "execute_result"
    }
   ],
   "source": [
    "not(True)"
   ]
  },
  {
   "cell_type": "markdown",
   "id": "fe35dad3",
   "metadata": {},
   "source": [
    "### 3. Make a list of each Boolean operator's truth tables (i.e. every possible combination of Boolean values for the operator and what it evaluate )."
   ]
  },
  {
   "cell_type": "code",
   "execution_count": 7,
   "id": "7a57846a",
   "metadata": {},
   "outputs": [
    {
     "name": "stdout",
     "output_type": "stream",
     "text": [
      "True\n",
      "False\n",
      "True\n",
      "True\n",
      "False\n"
     ]
    }
   ],
   "source": [
    "print(True and True)\n",
    "print(True and False)\n",
    "print(True or False)\n",
    "print(True or True)\n",
    "print(False or False)"
   ]
  },
  {
   "cell_type": "markdown",
   "id": "0637bf80",
   "metadata": {},
   "source": [
    "### 4. What are the values of the following expressions?\n",
    "- (5 > 4) and (3 == 5)\n",
    "- not (5 > 4)\n",
    "- (5 > 4) or (3 == 5)\n",
    "- not ((5 > 4) or (3 == 5))\n",
    "- (True and True) and (True == False)\n",
    "- (not False) or (not True)\n"
   ]
  },
  {
   "cell_type": "code",
   "execution_count": 10,
   "id": "6f25268b",
   "metadata": {},
   "outputs": [
    {
     "name": "stdout",
     "output_type": "stream",
     "text": [
      "False\n",
      "False\n",
      "True\n",
      "False\n",
      "False\n",
      "True\n"
     ]
    }
   ],
   "source": [
    "print((5 > 4) and (3 == 5))\n",
    "print(not (5 > 4))\n",
    "print((5 > 4) or (3 == 5))\n",
    "print(not ((5 > 4) or (3 == 5)))\n",
    "print((True and True) and (True == False))\n",
    "print((not False) or (not True))"
   ]
  },
  {
   "cell_type": "markdown",
   "id": "f1d281e1",
   "metadata": {},
   "source": [
    "### 5. What are the six comparison operators?"
   ]
  },
  {
   "cell_type": "markdown",
   "id": "b3439c50",
   "metadata": {},
   "source": [
    "#### six types of operators\n",
    "- '>='\n",
    "- '<='\n",
    "- '>'\n",
    "- '<'\n",
    "- '!='\n",
    "- '=='"
   ]
  },
  {
   "cell_type": "markdown",
   "id": "cc8e8f40",
   "metadata": {},
   "source": [
    "### 6. How do you tell the difference between the equal to and assignment operators?Describe a condition and when you would use one."
   ]
  },
  {
   "cell_type": "code",
   "execution_count": 14,
   "id": "0fa7fad3",
   "metadata": {},
   "outputs": [
    {
     "name": "stdout",
     "output_type": "stream",
     "text": [
      "True\n"
     ]
    }
   ],
   "source": [
    "#for assigning purpose we can use = example in the following\n",
    "x=10 #Here we are assigning x is equal to 10\n",
    "# == this operator is used to check conditions it will return boolean result\n",
    "x=10\n",
    "print(x==10)"
   ]
  },
  {
   "cell_type": "markdown",
   "id": "61c57c2d",
   "metadata": {},
   "source": [
    "### 7. Identify the three blocks in this code:\n",
    "spam = 0\n",
    "\n",
    "if spam == 10:\n",
    "\n",
    "print('eggs')\n",
    "\n",
    "if spam > 5:\n",
    "\n",
    "print('bacon')\n",
    "\n",
    "else:\n",
    "\n",
    "print('ham')\n",
    "\n",
    "print('spam')\n",
    "\n",
    "print('spam')\n",
    "\n"
   ]
  },
  {
   "cell_type": "code",
   "execution_count": 16,
   "id": "f9700bf1",
   "metadata": {},
   "outputs": [],
   "source": [
    "#1st block\n",
    "spam=0\n",
    "if spam==10:\n",
    "    print(\"eggs\")"
   ]
  },
  {
   "cell_type": "code",
   "execution_count": 18,
   "id": "e256e47e",
   "metadata": {},
   "outputs": [
    {
     "name": "stdout",
     "output_type": "stream",
     "text": [
      "ham\n"
     ]
    }
   ],
   "source": [
    "#2nd block\n",
    "if spam>5:\n",
    "    print(\"Bacon\")\n",
    "else:\n",
    "    print(\"ham\")"
   ]
  },
  {
   "cell_type": "code",
   "execution_count": 19,
   "id": "2d64e8df",
   "metadata": {},
   "outputs": [
    {
     "name": "stdout",
     "output_type": "stream",
     "text": [
      "spam\n",
      "spam\n"
     ]
    }
   ],
   "source": [
    "#3rd block\n",
    "print(\"spam\")\n",
    "print(\"spam\")"
   ]
  },
  {
   "cell_type": "markdown",
   "id": "b1750cc4",
   "metadata": {},
   "source": [
    "### 8. Write code that prints Hello if 1 is stored in spam, prints Howdy if 2 is stored in spam, and prints Greetings! if anything else is stored in spam."
   ]
  },
  {
   "cell_type": "code",
   "execution_count": 20,
   "id": "96af2f28",
   "metadata": {},
   "outputs": [
    {
     "name": "stdout",
     "output_type": "stream",
     "text": [
      "Hello\n"
     ]
    }
   ],
   "source": [
    "spam=1\n",
    "if spam==1:\n",
    "    print(\"Hello\")\n",
    "elif spam==2:\n",
    "    print(\"How r u?\")\n",
    "else:\n",
    "    print(\"Greetings!\")"
   ]
  },
  {
   "cell_type": "markdown",
   "id": "37196a56",
   "metadata": {},
   "source": [
    "### 9.If your programme is stuck in an endless loop, what keys you’ll press?"
   ]
  },
  {
   "cell_type": "markdown",
   "id": "a6f8a7d9",
   "metadata": {},
   "source": [
    "- Go to kernel and press interrupt"
   ]
  },
  {
   "cell_type": "markdown",
   "id": "99fe6ec8",
   "metadata": {},
   "source": [
    "### 10. How can you tell the difference between break and continue?"
   ]
  },
  {
   "cell_type": "markdown",
   "id": "2b53aa5f",
   "metadata": {},
   "source": [
    "##### break\n",
    "-  Break statement will stop the loop\n",
    "\n",
    "\n",
    "##### continue\n",
    "-  Continue statement will skip the below statement"
   ]
  },
  {
   "cell_type": "code",
   "execution_count": 22,
   "id": "7b9318ef",
   "metadata": {},
   "outputs": [
    {
     "name": "stdout",
     "output_type": "stream",
     "text": [
      "0\n",
      "1\n",
      "2\n",
      "3\n",
      "4\n",
      "5\n",
      "6\n",
      "6\n"
     ]
    }
   ],
   "source": [
    "#break example\n",
    "for i in range(10):\n",
    "    print(i)\n",
    "    if i==6:\n",
    "        print(i)\n",
    "        break"
   ]
  },
  {
   "cell_type": "code",
   "execution_count": 23,
   "id": "b24733b4",
   "metadata": {},
   "outputs": [
    {
     "name": "stdout",
     "output_type": "stream",
     "text": [
      "1\n",
      "3\n",
      "5\n",
      "7\n",
      "9\n"
     ]
    }
   ],
   "source": [
    "#continue\n",
    "for i in range(10):\n",
    "    if i%2==0:\n",
    "        #Here it will skip the even numbers\n",
    "        continue\n",
    "    print(i)     "
   ]
  },
  {
   "cell_type": "markdown",
   "id": "0927e136",
   "metadata": {},
   "source": [
    "### 11. In a for loop, what is the difference between range(10), range(0, 10), and range(0, 10, 1)?"
   ]
  },
  {
   "cell_type": "markdown",
   "id": "2c8efb31",
   "metadata": {},
   "source": [
    "##### there is no difference between range(10),range(0,10),range(0,10,1) are same"
   ]
  },
  {
   "cell_type": "code",
   "execution_count": 26,
   "id": "df6c9c6e",
   "metadata": {},
   "outputs": [
    {
     "name": "stdout",
     "output_type": "stream",
     "text": [
      "range(10)--> [0, 1, 2, 3, 4, 5, 6, 7, 8, 9]\n",
      "range(0,10)--> [0, 1, 2, 3, 4, 5, 6, 7, 8, 9]\n",
      "range(0,10,1)--> [0, 1, 2, 3, 4, 5, 6, 7, 8, 9]\n"
     ]
    }
   ],
   "source": [
    "print(\"range(10)-->\",list(range(10)))\n",
    "print(\"range(0,10)-->\",list(range(0,10)))\n",
    "print(\"range(0,10,1)-->\",list(range(0,10,1)))"
   ]
  },
  {
   "cell_type": "markdown",
   "id": "6ef1f0a9",
   "metadata": {},
   "source": [
    "### 12. Write a short program that prints the numbers 1 to 10 using a for loop. Then write an equivalent program that prints the numbers 1 to 10 using a while loop."
   ]
  },
  {
   "cell_type": "code",
   "execution_count": 27,
   "id": "8aca376f",
   "metadata": {},
   "outputs": [
    {
     "name": "stdout",
     "output_type": "stream",
     "text": [
      "For loop answer--> 1\n",
      "For loop answer--> 2\n",
      "For loop answer--> 3\n",
      "For loop answer--> 4\n",
      "For loop answer--> 5\n",
      "For loop answer--> 6\n",
      "For loop answer--> 7\n",
      "For loop answer--> 8\n",
      "For loop answer--> 9\n"
     ]
    }
   ],
   "source": [
    "#for loop\n",
    "for i in range(1,10):\n",
    "    print(\"For loop answer-->\",i)"
   ]
  },
  {
   "cell_type": "code",
   "execution_count": 29,
   "id": "26d9e3f9",
   "metadata": {},
   "outputs": [
    {
     "name": "stdout",
     "output_type": "stream",
     "text": [
      "0\n",
      "1\n",
      "2\n",
      "3\n",
      "4\n",
      "5\n",
      "6\n",
      "7\n",
      "8\n",
      "9\n",
      "10\n"
     ]
    }
   ],
   "source": [
    "#while loop\n",
    "i=0\n",
    "while i<=10:\n",
    "    print(i)\n",
    "    i+=1"
   ]
  },
  {
   "cell_type": "markdown",
   "id": "0dd77788",
   "metadata": {},
   "source": [
    "### 13. If you had a function named bacon() inside a module named spam, how would you call it after importing spam?"
   ]
  },
  {
   "cell_type": "markdown",
   "id": "ef015669",
   "metadata": {},
   "source": [
    "import spam\n",
    "\n",
    "\n",
    "spam.bacon"
   ]
  },
  {
   "cell_type": "code",
   "execution_count": null,
   "id": "a6f1bdbe",
   "metadata": {},
   "outputs": [],
   "source": []
  },
  {
   "cell_type": "code",
   "execution_count": null,
   "id": "433c3723",
   "metadata": {},
   "outputs": [],
   "source": []
  },
  {
   "cell_type": "code",
   "execution_count": null,
   "id": "d38c0ad6",
   "metadata": {},
   "outputs": [],
   "source": []
  },
  {
   "cell_type": "code",
   "execution_count": null,
   "id": "36bdaf54",
   "metadata": {},
   "outputs": [],
   "source": []
  },
  {
   "cell_type": "code",
   "execution_count": null,
   "id": "aae52ef3",
   "metadata": {},
   "outputs": [],
   "source": []
  }
 ],
 "metadata": {
  "kernelspec": {
   "display_name": "Python 3 (ipykernel)",
   "language": "python",
   "name": "python3"
  },
  "language_info": {
   "codemirror_mode": {
    "name": "ipython",
    "version": 3
   },
   "file_extension": ".py",
   "mimetype": "text/x-python",
   "name": "python",
   "nbconvert_exporter": "python",
   "pygments_lexer": "ipython3",
   "version": "3.9.7"
  }
 },
 "nbformat": 4,
 "nbformat_minor": 5
}
