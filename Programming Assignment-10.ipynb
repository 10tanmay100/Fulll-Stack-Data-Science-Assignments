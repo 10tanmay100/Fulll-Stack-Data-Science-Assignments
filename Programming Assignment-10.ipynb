{
 "cells": [
  {
   "cell_type": "code",
   "execution_count": 1,
   "metadata": {},
   "outputs": [
    {
     "name": "stdout",
     "output_type": "stream",
     "text": [
      "Object `List` not found.\n",
      "Object `List` not found.\n"
     ]
    }
   ],
   "source": [
    "1.\tWrite a Python program to find sum of elements in list?\n",
    "2.\tWrite a Python program to  Multiply all numbers in the list?\n",
    "3.\tWrite a Python program to find smallest number in a list?\n",
    "4.\tWrite a Python program to find largest number in a list?\n",
    "5.\tWrite a Python program to find second largest number in a list?\n",
    "6.\tWrite a Python program to find N largest elements from a list?\n",
    "7.\tWrite a Python program to print even numbers in a list?\n",
    "8.\tWrite a Python program to print odd numbers in a List?\n",
    "9.\tWrite a Python program to Remove empty List from List?\n",
    "10.\tWrite a Python program to Cloning or Copying a list?\n",
    "11.\tWrite a Python program to Count occurrences of an element in a list?\n"
   ]
  },
  {
   "cell_type": "markdown",
   "metadata": {},
   "source": [
    "## 1.\tWrite a Python program to find sum of elements in list?"
   ]
  },
  {
   "cell_type": "code",
   "execution_count": 29,
   "metadata": {},
   "outputs": [
    {
     "data": {
      "text/plain": [
       "15"
      ]
     },
     "execution_count": 29,
     "metadata": {},
     "output_type": "execute_result"
    }
   ],
   "source": [
    "class sum_of_list:\n",
    "    def __init__(self,list1):\n",
    "        self.list1=list1\n",
    "    def add_of_list(self):\n",
    "        if type(self.list1)==list:\n",
    "            return sum(self.list1)\n",
    "        else:\n",
    "            return \"please enter a list, it is not a list\"\n",
    "s=sum_of_list([1,2,3,4,5])\n",
    "s.add_of_list()"
   ]
  },
  {
   "cell_type": "code",
   "execution_count": 30,
   "metadata": {},
   "outputs": [
    {
     "data": {
      "text/plain": [
       "'please enter a list, it is not a list'"
      ]
     },
     "execution_count": 30,
     "metadata": {},
     "output_type": "execute_result"
    }
   ],
   "source": [
    "s=sum_of_list(134)\n",
    "s.add_of_list()"
   ]
  },
  {
   "cell_type": "markdown",
   "metadata": {},
   "source": [
    "## 2.\tWrite a Python program to  Multiply all numbers in the list?"
   ]
  },
  {
   "cell_type": "code",
   "execution_count": 31,
   "metadata": {},
   "outputs": [],
   "source": [
    "class mul:\n",
    "    def __init__(self,list1):\n",
    "        self.list1=list1\n",
    "    def multiplication(self):\n",
    "        ans=1\n",
    "        if type(self.list1)==list:\n",
    "            for i in self.list1:\n",
    "                ans=ans*i\n",
    "            return ans\n",
    "        else:\n",
    "            return \"Please enter a list\""
   ]
  },
  {
   "cell_type": "code",
   "execution_count": 32,
   "metadata": {},
   "outputs": [
    {
     "data": {
      "text/plain": [
       "6"
      ]
     },
     "execution_count": 32,
     "metadata": {},
     "output_type": "execute_result"
    }
   ],
   "source": [
    "m=mul([1,2,3])\n",
    "m.multiplication()"
   ]
  },
  {
   "cell_type": "code",
   "execution_count": 33,
   "metadata": {},
   "outputs": [
    {
     "data": {
      "text/plain": [
       "'Please enter a list'"
      ]
     },
     "execution_count": 33,
     "metadata": {},
     "output_type": "execute_result"
    }
   ],
   "source": [
    "m=mul(1)\n",
    "m.multiplication()"
   ]
  },
  {
   "cell_type": "markdown",
   "metadata": {},
   "source": [
    "## 3.\tWrite a Python program to find smallest number in a list?"
   ]
  },
  {
   "cell_type": "code",
   "execution_count": 34,
   "metadata": {},
   "outputs": [
    {
     "data": {
      "text/plain": [
       "1"
      ]
     },
     "execution_count": 34,
     "metadata": {},
     "output_type": "execute_result"
    }
   ],
   "source": [
    "class smallest_number:\n",
    "    def __init__(self,lists):\n",
    "        self.lists=lists\n",
    "    def small(self):\n",
    "        if type(self.lists)==list:\n",
    "            return min(self.lists)\n",
    "        else:\n",
    "            return \"please enter a list\"\n",
    "s=smallest_number([30,12,45,1,2,3,4,5])\n",
    "s.small()"
   ]
  },
  {
   "cell_type": "markdown",
   "metadata": {},
   "source": [
    "## 4.\tWrite a Python program to find largest number in a list?"
   ]
  },
  {
   "cell_type": "code",
   "execution_count": 35,
   "metadata": {},
   "outputs": [
    {
     "data": {
      "text/plain": [
       "45"
      ]
     },
     "execution_count": 35,
     "metadata": {},
     "output_type": "execute_result"
    }
   ],
   "source": [
    "class largest_number:\n",
    "    def __init__(self,lists):\n",
    "        self.lists=lists\n",
    "    def large(self):\n",
    "        if type(self.lists)==list:\n",
    "            return max(self.lists)\n",
    "        else:\n",
    "            return \"please enter a list\"\n",
    "s=largest_number([30,12,45,1,2,3,4,5])\n",
    "s.large()"
   ]
  },
  {
   "cell_type": "markdown",
   "metadata": {},
   "source": [
    "## 5. Write a Python program to find second largest number in a list?"
   ]
  },
  {
   "cell_type": "code",
   "execution_count": 38,
   "metadata": {},
   "outputs": [
    {
     "data": {
      "text/plain": [
       "4"
      ]
     },
     "execution_count": 38,
     "metadata": {},
     "output_type": "execute_result"
    }
   ],
   "source": [
    "class second_largest:\n",
    "    def __init__(self,list1):\n",
    "        self.list1=list1\n",
    "    def sec_l(self):\n",
    "        if type(self.list1)==list:\n",
    "            self.list1.sort()\n",
    "            for idx,val in enumerate(self.list1):\n",
    "                if idx==1:\n",
    "                    return self.list1[idx]\n",
    "            return \"No value\"\n",
    "        else:\n",
    "            return \"Please omsert a list\"\n",
    "l=second_largest([5,6,1,4,9,12,34])\n",
    "l.sec_l()        "
   ]
  },
  {
   "cell_type": "markdown",
   "metadata": {},
   "source": [
    "## 6.\tWrite a Python program to find N largest elements from a list?"
   ]
  },
  {
   "cell_type": "code",
   "execution_count": 42,
   "metadata": {},
   "outputs": [
    {
     "data": {
      "text/plain": [
       "4"
      ]
     },
     "execution_count": 42,
     "metadata": {},
     "output_type": "execute_result"
    }
   ],
   "source": [
    "class nth_largest:\n",
    "    def __init__(self,list1):\n",
    "        self.list1=list1\n",
    "    def nth(self,n):\n",
    "        if type(self.list1)==list:\n",
    "            self.list1.sort()\n",
    "            for idx,val in enumerate(self.list1):\n",
    "                if idx==n-1:\n",
    "                    return self.list1[idx]\n",
    "            return \"No value\"\n",
    "        else:\n",
    "            return \"Please omsert a list\"\n",
    "l=nth_largest([5,6,1,4,9,12,34])\n",
    "l.nth(2)  "
   ]
  },
  {
   "cell_type": "markdown",
   "metadata": {},
   "source": [
    "## 7.\tWrite a Python program to print even numbers in a list?\n",
    "## 8.\tWrite a Python program to print odd numbers in a List?"
   ]
  },
  {
   "cell_type": "code",
   "execution_count": 50,
   "metadata": {},
   "outputs": [
    {
     "name": "stdout",
     "output_type": "stream",
     "text": [
      "[2, 4, 6, 10, 56]\n",
      "[1, 3, 5, 7, 9, 43]\n"
     ]
    }
   ],
   "source": [
    "class even_or_odd:\n",
    "    def __init__(self,list1):\n",
    "        self.list1=list1\n",
    "    def check_even(self):\n",
    "        if type(self.list1)==list:\n",
    "            l=[i for i in self.list1 if i%2==0]\n",
    "            return l\n",
    "        else:\n",
    "            if self.list1%2==0:\n",
    "                return \"even\"\n",
    "            \n",
    "    def check_odd(self):\n",
    "        if type(self.list1)==list:\n",
    "            l=[i for i in self.list1 if i%2!=0]\n",
    "            return l\n",
    "        else:\n",
    "            if self.list1%2!=0:\n",
    "                return \"odd\"    \n",
    "e=even_or_odd([1,2,3,4,5,6,7,9,10,56,43])\n",
    "print(e.check_even())\n",
    "print(e.check_odd())"
   ]
  },
  {
   "cell_type": "markdown",
   "metadata": {},
   "source": [
    "## 9.\tWrite a Python program to Remove empty List from List?"
   ]
  },
  {
   "cell_type": "code",
   "execution_count": 56,
   "metadata": {},
   "outputs": [
    {
     "data": {
      "text/plain": [
       "[1, 2, 3, 4, [1, 2, 3, 4], 678]"
      ]
     },
     "execution_count": 56,
     "metadata": {},
     "output_type": "execute_result"
    }
   ],
   "source": [
    "class remove_empty_list:\n",
    "    def __init__(self,nested_list):\n",
    "        self.nested_list=nested_list\n",
    "    def empty_remove(self):\n",
    "        new_list=[]\n",
    "        for lists in self.nested_list:\n",
    "            if type(lists)==list:\n",
    "                if len(lists)!=0:\n",
    "                    new_list.append(lists)\n",
    "            else:\n",
    "                new_list.append(lists)\n",
    "        return new_list\n",
    "ls=remove_empty_list([1,2,3,4,[1,2,3,4],[],[],678])\n",
    "ls.empty_remove()        "
   ]
  },
  {
   "cell_type": "markdown",
   "metadata": {},
   "source": [
    "## 10.\tWrite a Python program to Cloning or Copying a list?"
   ]
  },
  {
   "cell_type": "code",
   "execution_count": 61,
   "metadata": {},
   "outputs": [
    {
     "data": {
      "text/plain": [
       "[1, 2, 3, 4]"
      ]
     },
     "execution_count": 61,
     "metadata": {},
     "output_type": "execute_result"
    }
   ],
   "source": [
    "class copy_list:\n",
    "    def copy_l(self,lists):\n",
    "        return lists.copy()\n",
    "c=copy_list()\n",
    "c.copy_l([1,2,3,4])"
   ]
  },
  {
   "cell_type": "markdown",
   "metadata": {},
   "source": [
    "## 11.\tWrite a Python program to Count occurrences of an element in a list?"
   ]
  },
  {
   "cell_type": "code",
   "execution_count": 65,
   "metadata": {},
   "outputs": [
    {
     "data": {
      "text/plain": [
       "{1: 1, 2: 6, 4: 6, 5: 1, 6: 1, 7: 1, 8: 1, 9: 1}"
      ]
     },
     "execution_count": 65,
     "metadata": {},
     "output_type": "execute_result"
    }
   ],
   "source": [
    "class occurences_count:\n",
    "    def __init__(self,lists):\n",
    "        self.lists=lists\n",
    "    def occ_count(self):\n",
    "        set_c=set(self.lists)\n",
    "        dict1={}\n",
    "        for vals in set_c:\n",
    "            count1=self.lists.count(vals)\n",
    "            dict1[vals]=count1\n",
    "        return dict1\n",
    "occ=occurences_count([1,2,2,2,2,2,2,5,6,7,8,9,4,4,4,4,4,4])\n",
    "occ.occ_count()"
   ]
  },
  {
   "cell_type": "code",
   "execution_count": null,
   "metadata": {},
   "outputs": [],
   "source": []
  }
 ],
 "metadata": {
  "kernelspec": {
   "display_name": "Python 3",
   "language": "python",
   "name": "python3"
  },
  "language_info": {
   "codemirror_mode": {
    "name": "ipython",
    "version": 3
   },
   "file_extension": ".py",
   "mimetype": "text/x-python",
   "name": "python",
   "nbconvert_exporter": "python",
   "pygments_lexer": "ipython3",
   "version": "3.8.5"
  }
 },
 "nbformat": 4,
 "nbformat_minor": 4
}
