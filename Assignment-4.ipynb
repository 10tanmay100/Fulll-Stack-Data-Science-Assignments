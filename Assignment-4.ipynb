{
 "cells": [
  {
   "cell_type": "markdown",
   "id": "ed08e4d6",
   "metadata": {},
   "source": [
    "### 1. What exactly is []?"
   ]
  },
  {
   "cell_type": "markdown",
   "id": "bfc115c3",
   "metadata": {},
   "source": [
    "##### Answer\n",
    "[] is means it is a empty list"
   ]
  },
  {
   "cell_type": "markdown",
   "id": "dac7e0cc",
   "metadata": {},
   "source": [
    "### 2. In a list of values stored in a variable called spam, how would you assign the value 'hello' as the third value? (Assume [2, 4, 6, 8, 10] are in spam.)"
   ]
  },
  {
   "cell_type": "code",
   "execution_count": 1,
   "id": "3757fee1",
   "metadata": {},
   "outputs": [
    {
     "name": "stdout",
     "output_type": "stream",
     "text": [
      "[2, 4, 'hello', 8, 10]\n"
     ]
    }
   ],
   "source": [
    "spam=[2,4,6,8,10]\n",
    "#now assigning \"hello in third index\"\n",
    "spam[2]=\"hello\"\n",
    "print(spam)"
   ]
  },
  {
   "cell_type": "code",
   "execution_count": 9,
   "id": "2788fd84",
   "metadata": {},
   "outputs": [],
   "source": [
    "#Let's pretend the spam includes the list ['a', 'b', 'c', 'd'] for the next three queries.\n",
    "spam=['a','b','c','d']"
   ]
  },
  {
   "cell_type": "markdown",
   "id": "426aff12",
   "metadata": {},
   "source": [
    "### 3. What is the value of spam[int(int('3' * 2) / 11)]?"
   ]
  },
  {
   "cell_type": "code",
   "execution_count": 10,
   "id": "e2f35279",
   "metadata": {},
   "outputs": [
    {
     "data": {
      "text/plain": [
       "'d'"
      ]
     },
     "execution_count": 10,
     "metadata": {},
     "output_type": "execute_result"
    }
   ],
   "source": [
    "spam[int(int('3'*2)/11)]"
   ]
  },
  {
   "cell_type": "markdown",
   "id": "ce036c7c",
   "metadata": {},
   "source": [
    "### 4. What is the value of spam[-1]?"
   ]
  },
  {
   "cell_type": "code",
   "execution_count": 11,
   "id": "af3e4dea",
   "metadata": {},
   "outputs": [
    {
     "name": "stdout",
     "output_type": "stream",
     "text": [
      "d\n"
     ]
    }
   ],
   "source": [
    "print(spam[-1])"
   ]
  },
  {
   "cell_type": "markdown",
   "id": "8534fd7e",
   "metadata": {},
   "source": [
    "### 5. What is the value of spam[:2]?"
   ]
  },
  {
   "cell_type": "code",
   "execution_count": 12,
   "id": "bdecb962",
   "metadata": {},
   "outputs": [
    {
     "name": "stdout",
     "output_type": "stream",
     "text": [
      "['a', 'b']\n"
     ]
    }
   ],
   "source": [
    "print(spam[:2])"
   ]
  },
  {
   "cell_type": "code",
   "execution_count": 8,
   "id": "658fac82",
   "metadata": {},
   "outputs": [],
   "source": [
    "### Let's pretend bacon has the list [3.14, 'cat,' 11, 'cat,' True] for the next three questions.\n",
    "bacon=[3.14, 'cat', 11, 'cat', True]"
   ]
  },
  {
   "cell_type": "markdown",
   "id": "7926c4a8",
   "metadata": {},
   "source": [
    "### 6. What is the value of bacon.index('cat')?"
   ]
  },
  {
   "cell_type": "code",
   "execution_count": 13,
   "id": "b55f5250",
   "metadata": {},
   "outputs": [
    {
     "data": {
      "text/plain": [
       "1"
      ]
     },
     "execution_count": 13,
     "metadata": {},
     "output_type": "execute_result"
    }
   ],
   "source": [
    "bacon.index(\"cat\")"
   ]
  },
  {
   "cell_type": "markdown",
   "id": "6ea608b5",
   "metadata": {},
   "source": [
    "### 7. How does bacon.append(99) change the look of the list value in bacon?"
   ]
  },
  {
   "cell_type": "code",
   "execution_count": 14,
   "id": "b8dde9f0",
   "metadata": {},
   "outputs": [
    {
     "data": {
      "text/plain": [
       "[3.14, 'cat', 11, 'cat', True, 99]"
      ]
     },
     "execution_count": 14,
     "metadata": {},
     "output_type": "execute_result"
    }
   ],
   "source": [
    "bacon.append(99)\n",
    "bacon"
   ]
  },
  {
   "cell_type": "markdown",
   "id": "5a04d8d5",
   "metadata": {},
   "source": [
    "### 8. How does bacon.remove('cat') change the look of the list in bacon?"
   ]
  },
  {
   "cell_type": "code",
   "execution_count": 15,
   "id": "84accda3",
   "metadata": {},
   "outputs": [
    {
     "data": {
      "text/plain": [
       "[3.14, 11, 'cat', True, 99]"
      ]
     },
     "execution_count": 15,
     "metadata": {},
     "output_type": "execute_result"
    }
   ],
   "source": [
    "bacon.remove(\"cat\")\n",
    "bacon"
   ]
  },
  {
   "cell_type": "markdown",
   "id": "796c74ac",
   "metadata": {},
   "source": [
    "### 9. What are the list concatenation and list replication operators?"
   ]
  },
  {
   "cell_type": "code",
   "execution_count": 19,
   "id": "defca2b8",
   "metadata": {},
   "outputs": [
    {
     "name": "stdout",
     "output_type": "stream",
     "text": [
      "Concat List--> [1, 2, 3, 4, 5, 6, 7, 8, 9, 0]\n",
      "Replicated List--> [1, 2, 3, 4, 5, 1, 2, 3, 4, 5]\n"
     ]
    }
   ],
   "source": [
    "#list concatenation\n",
    "l1=[1,2,3,4,5]\n",
    "l2=[6,7,8,9,0]\n",
    "print(\"Concat List-->\",l1+l2)\n",
    "#list replication\n",
    "print(\"Replicated List-->\",l1*2)"
   ]
  },
  {
   "cell_type": "markdown",
   "id": "bf3f2bf6",
   "metadata": {},
   "source": [
    "### 10. What is difference between the list methods append() and insert()?"
   ]
  },
  {
   "cell_type": "code",
   "execution_count": 22,
   "id": "fbf8eb10",
   "metadata": {},
   "outputs": [
    {
     "name": "stdout",
     "output_type": "stream",
     "text": [
      "[1, 'inserted', 2, 3, 4, 'appened']\n"
     ]
    }
   ],
   "source": [
    "#append will add the value at the end of the list\n",
    "l1=[1,2,3,4]\n",
    "l1.append(\"appened\")\n",
    "#insert also do the same but it also append the value and we can mention the position\n",
    "l1.insert(1,\"inserted\")\n",
    "print(l1)"
   ]
  },
  {
   "cell_type": "markdown",
   "id": "14855782",
   "metadata": {},
   "source": [
    "### 11. What are the two methods for removing items from a list?"
   ]
  },
  {
   "cell_type": "code",
   "execution_count": 26,
   "id": "c114f9ba",
   "metadata": {},
   "outputs": [
    {
     "name": "stdout",
     "output_type": "stream",
     "text": [
      "[1, 3]\n"
     ]
    }
   ],
   "source": [
    "#remove function\n",
    "l1=[1,2,3]\n",
    "l1.remove(2)\n",
    "print(l1)"
   ]
  },
  {
   "cell_type": "code",
   "execution_count": 27,
   "id": "0c5e7f17",
   "metadata": {},
   "outputs": [
    {
     "name": "stdout",
     "output_type": "stream",
     "text": [
      "[1, 3]\n"
     ]
    }
   ],
   "source": [
    "#pop function\n",
    "l2=[1,2,3]\n",
    "l2.pop(1)\n",
    "print(l2)"
   ]
  },
  {
   "cell_type": "markdown",
   "id": "7860cdab",
   "metadata": {},
   "source": [
    "### 12. Describe how list values and string values are identical."
   ]
  },
  {
   "cell_type": "markdown",
   "id": "0e164555",
   "metadata": {},
   "source": [
    "###### Answer\n",
    "list values can be indexed and sliced and we can do the same for string values also"
   ]
  },
  {
   "cell_type": "markdown",
   "id": "d49fc7c1",
   "metadata": {},
   "source": [
    "### 13. What's the difference between tuples and lists?"
   ]
  },
  {
   "cell_type": "markdown",
   "id": "6011ffb9",
   "metadata": {},
   "source": [
    "##### Answer\n",
    "Lists are mutable and tuples are immutable"
   ]
  },
  {
   "cell_type": "markdown",
   "id": "b4534ad1",
   "metadata": {},
   "source": [
    "### 14. How do you type a tuple value that only contains the integer 42?"
   ]
  },
  {
   "cell_type": "code",
   "execution_count": 39,
   "id": "14bb16ae",
   "metadata": {},
   "outputs": [
    {
     "data": {
      "text/plain": [
       "tuple"
      ]
     },
     "execution_count": 39,
     "metadata": {},
     "output_type": "execute_result"
    }
   ],
   "source": [
    "val=(42,)\n",
    "type(val)"
   ]
  },
  {
   "cell_type": "markdown",
   "id": "8ceb8dd6",
   "metadata": {},
   "source": [
    "### 15. How do you get a list value's tuple form? How do you get a tuple value's list form?"
   ]
  },
  {
   "cell_type": "code",
   "execution_count": 45,
   "id": "d629838c",
   "metadata": {},
   "outputs": [
    {
     "name": "stdout",
     "output_type": "stream",
     "text": [
      "List to tuple--> (1, 2, 3, 4)\n",
      "Tuple to list--> [1, 2, 3, 4]\n"
     ]
    }
   ],
   "source": [
    "#list to tuple\n",
    "l1=[1,2,3,4]\n",
    "print(\"List to tuple-->\",tuple(l1))\n",
    "#tuple to list\n",
    "tup1=(1,2,3,4)\n",
    "print(\"Tuple to list-->\",list(tup1))"
   ]
  },
  {
   "cell_type": "markdown",
   "id": "359d2365",
   "metadata": {},
   "source": [
    "### 16. Variables that \"contain\" list values are not necessarily lists themselves. Instead, what do they contain?"
   ]
  },
  {
   "cell_type": "markdown",
   "id": "a713afbd",
   "metadata": {},
   "source": [
    "##### Answer\n",
    "List values can be different datatype of objects"
   ]
  },
  {
   "cell_type": "markdown",
   "id": "b4c1dbb7",
   "metadata": {},
   "source": [
    "### 17. How do you distinguish between copy.copy() and copy.deepcopy()?"
   ]
  },
  {
   "cell_type": "markdown",
   "id": "42041af5",
   "metadata": {},
   "source": [
    "copy.copy() will store a copy on other variable and if we do chnage some in copied variable does not refelct on the main variable. This distingush we can only do when their data is nested like here [5,7]  is nested in l1"
   ]
  },
  {
   "cell_type": "code",
   "execution_count": 93,
   "id": "18156c39",
   "metadata": {},
   "outputs": [
    {
     "name": "stdout",
     "output_type": "stream",
     "text": [
      "Copied list [1, 2, 3, [10, 7]] and main list [1, 2, 3, [10, 7]]\n"
     ]
    }
   ],
   "source": [
    "import copy\n",
    "l1=[1,2,3,[5,7]]\n",
    "c1=copy.copy(l1)\n",
    "c1[3][0]=10\n",
    "print(f\"Copied list {c1} and main list {l1}\")"
   ]
  },
  {
   "cell_type": "markdown",
   "id": "16775f4b",
   "metadata": {},
   "source": [
    "copy.deepcopy() will store a copy on other variable and if we do change some in copied variable  refelects on the main variable"
   ]
  },
  {
   "cell_type": "code",
   "execution_count": 95,
   "id": "4f3f36eb",
   "metadata": {},
   "outputs": [
    {
     "name": "stdout",
     "output_type": "stream",
     "text": [
      "Copied list [1, 2, 3, [100, 7]] and main list [1, 2, 3, [5, 7]]\n"
     ]
    }
   ],
   "source": [
    "import copy\n",
    "l1=[1,2,3,[5,7]]\n",
    "c1=copy.deepcopy(l1)\n",
    "c1[3][0]=100\n",
    "print(f\"Copied list {c1} and main list {l1}\")"
   ]
  },
  {
   "cell_type": "code",
   "execution_count": null,
   "id": "3ac72f68",
   "metadata": {},
   "outputs": [],
   "source": []
  },
  {
   "cell_type": "code",
   "execution_count": null,
   "id": "8c751d6d",
   "metadata": {},
   "outputs": [],
   "source": []
  },
  {
   "cell_type": "code",
   "execution_count": null,
   "id": "3f619ea8",
   "metadata": {},
   "outputs": [],
   "source": []
  },
  {
   "cell_type": "code",
   "execution_count": null,
   "id": "baba487c",
   "metadata": {},
   "outputs": [],
   "source": []
  },
  {
   "cell_type": "code",
   "execution_count": null,
   "id": "a17f8aef",
   "metadata": {},
   "outputs": [],
   "source": []
  },
  {
   "cell_type": "code",
   "execution_count": null,
   "id": "4506764b",
   "metadata": {},
   "outputs": [],
   "source": []
  }
 ],
 "metadata": {
  "kernelspec": {
   "display_name": "Python 3 (ipykernel)",
   "language": "python",
   "name": "python3"
  },
  "language_info": {
   "codemirror_mode": {
    "name": "ipython",
    "version": 3
   },
   "file_extension": ".py",
   "mimetype": "text/x-python",
   "name": "python",
   "nbconvert_exporter": "python",
   "pygments_lexer": "ipython3",
   "version": "3.9.7"
  }
 },
 "nbformat": 4,
 "nbformat_minor": 5
}
