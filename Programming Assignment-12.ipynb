{
 "cells": [
  {
   "cell_type": "code",
   "execution_count": 1,
   "metadata": {},
   "outputs": [
    {
     "ename": "SyntaxError",
     "evalue": "invalid syntax (<ipython-input-1-0c8b8b32c05f>, line 6)",
     "output_type": "error",
     "traceback": [
      "\u001b[1;36m  File \u001b[1;32m\"<ipython-input-1-0c8b8b32c05f>\"\u001b[1;36m, line \u001b[1;32m6\u001b[0m\n\u001b[1;33m    6. Write a Python program to check order of character in string using OrderedDict()?\u001b[0m\n\u001b[1;37m       ^\u001b[0m\n\u001b[1;31mSyntaxError\u001b[0m\u001b[1;31m:\u001b[0m invalid syntax\n"
     ]
    }
   ],
   "source": [
    "1. Write a Python program to Extract Unique values dictionary values?\n",
    "2. Write a Python program to find the sum of all items in a dictionary?\n",
    "3. Write a Python program to Merging two Dictionaries?\n",
    "4. Write a Python program to convert key-values list to flat dictionary?\n",
    "5. Write a Python program to insertion at the beginning in OrderedDict?\n",
    "6. Write a Python program to check order of character in string using OrderedDict()?\n",
    "7. Write a Python program to sort Python Dictionaries by Key or Value?"
   ]
  },
  {
   "cell_type": "markdown",
   "metadata": {},
   "source": [
    "## 1. Write a Python program to Extract Unique values dictionary values?"
   ]
  },
  {
   "cell_type": "code",
   "execution_count": 9,
   "metadata": {},
   "outputs": [
    {
     "data": {
      "text/plain": [
       "{12, 20, 'Tanmay'}"
      ]
     },
     "execution_count": 9,
     "metadata": {},
     "output_type": "execute_result"
    }
   ],
   "source": [
    "class unique_values:\n",
    "    def __init__(self,dictionary):\n",
    "        self.dictionary=dictionary\n",
    "    def find_unique_value(self):\n",
    "        if type(self.dictionary)==dict:\n",
    "            dict_values=[]\n",
    "            for i in self.dictionary.values():\n",
    "                dict_values.append(i)\n",
    "            return set(dict_values)\n",
    "        else:\n",
    "            return \"please insert a dictionary\"\n",
    "d=unique_values({\"name\":\"Tanmay\",\"math_score\":12,\"age\":20,\"name\":\"Tanmay\"})\n",
    "d.find_unique_value()"
   ]
  },
  {
   "cell_type": "markdown",
   "metadata": {},
   "source": [
    "## 2. Write a Python program to find the sum of all items in a dictionary?"
   ]
  },
  {
   "cell_type": "code",
   "execution_count": 14,
   "metadata": {},
   "outputs": [
    {
     "data": {
      "text/plain": [
       "700"
      ]
     },
     "execution_count": 14,
     "metadata": {},
     "output_type": "execute_result"
    }
   ],
   "source": [
    "class sum_of_items:\n",
    "    def __init__(self,dictt):\n",
    "        self.dictt=dictt\n",
    "    def sum_items(self):\n",
    "        dict_vals=[]\n",
    "        for i in self.dictt.values():\n",
    "            dict_vals.append(i)\n",
    "        return sum(dict_vals)\n",
    "d=sum_of_items({\"a\":100,\"b\":200,\"c\":400})\n",
    "d.sum_items()"
   ]
  },
  {
   "cell_type": "markdown",
   "metadata": {},
   "source": [
    "## 3. Write a Python program to Merging two Dictionaries?"
   ]
  },
  {
   "cell_type": "code",
   "execution_count": 57,
   "metadata": {},
   "outputs": [
    {
     "data": {
      "text/plain": [
       "{'name': 'Tanmay', 'age': 12, 'player': 'ronaldo', 'height': 160}"
      ]
     },
     "execution_count": 57,
     "metadata": {},
     "output_type": "execute_result"
    }
   ],
   "source": [
    "class two_dictionary:\n",
    "    def __init__(self,dict1):\n",
    "        self.dict1=dict1\n",
    "    def merge_dictionary(self,dict2):\n",
    "        self.dict1.update(dict2)\n",
    "        return self.dict1\n",
    "d={\"name\":\"Tanmay\",\"age\":12}\n",
    "d1={\"player\":\"ronaldo\",\"height\":160}\n",
    "dictt=two_dictionary(d)\n",
    "dictt.merge_dictionary(d1)"
   ]
  },
  {
   "cell_type": "markdown",
   "metadata": {},
   "source": [
    "## 4. Write a Python program to convert key-values list to flat dictionary?"
   ]
  },
  {
   "cell_type": "code",
   "execution_count": 60,
   "metadata": {},
   "outputs": [
    {
     "data": {
      "text/plain": [
       "{'name': 'age', 'Tanmay': 10}"
      ]
     },
     "execution_count": 60,
     "metadata": {},
     "output_type": "execute_result"
    }
   ],
   "source": [
    "class convert_list_to_dict:\n",
    "    def __init__(self,list1,list2):\n",
    "        self.list1=list1\n",
    "        self.list2=list2\n",
    "    def convert_list_to_str(self):\n",
    "        dictt={}\n",
    "        for i,j in (self.list1,self.list2):\n",
    "            dictt[i]=j\n",
    "        return dictt\n",
    "d=convert_list_to_dict([\"name\",\"age\"],[\"Tanmay\",10])\n",
    "d.convert_list_to_str()"
   ]
  },
  {
   "cell_type": "markdown",
   "metadata": {},
   "source": [
    "## 5. Write a Python program to insertion at the beginning in OrderedDict?"
   ]
  },
  {
   "cell_type": "code",
   "execution_count": 71,
   "metadata": {},
   "outputs": [
    {
     "data": {
      "text/plain": [
       "OrderedDict([('age', 10), ('name', 'tanmay')])"
      ]
     },
     "execution_count": 71,
     "metadata": {},
     "output_type": "execute_result"
    }
   ],
   "source": [
    "from collections import OrderedDict\n",
    "class beginner_order_dict:\n",
    "    def __init__(self,dict1):\n",
    "        self.dict1=dict1\n",
    "    def add_dict_beg(self,added_dict1):\n",
    "        dictt=OrderedDict()\n",
    "        dictt.update(added_dict1)\n",
    "        dictt.update(self.dict1)\n",
    "        return dictt\n",
    "d=beginner_order_dict({\"name\":\"tanmay\"})\n",
    "d.add_dict_beg({\"age\":10})"
   ]
  },
  {
   "cell_type": "markdown",
   "metadata": {},
   "source": [
    "## . Write a Python program to check order of character in string using OrderedDict()?"
   ]
  },
  {
   "cell_type": "code",
   "execution_count": 74,
   "metadata": {},
   "outputs": [],
   "source": [
    "class ordered_dict:\n",
    "    def __init__(self,string):\n",
    "        self.string=string\n",
    "    def order_check(self,pattern):\n",
    "        l=self.string.split(\" \")\n",
    "        answer=\"\"\n",
    "        for i in range(len(l)):\n",
    "            answer=answer+l[i][0]\n",
    "        if answer==pattern:\n",
    "            return True\n",
    "        else:\n",
    "            return False"
   ]
  },
  {
   "cell_type": "code",
   "execution_count": 76,
   "metadata": {},
   "outputs": [
    {
     "data": {
      "text/plain": [
       "True"
      ]
     },
     "execution_count": 76,
     "metadata": {},
     "output_type": "execute_result"
    }
   ],
   "source": [
    "o=ordered_dict(\"electric pole\")\n",
    "o.order_check(\"ep\")"
   ]
  },
  {
   "cell_type": "markdown",
   "metadata": {},
   "source": [
    "## 7. Write a Python program to sort Python Dictionaries by Key or Value?"
   ]
  },
  {
   "cell_type": "code",
   "execution_count": 102,
   "metadata": {},
   "outputs": [
    {
     "data": {
      "text/plain": [
       "[('age', 12), ('name', 12)]"
      ]
     },
     "execution_count": 102,
     "metadata": {},
     "output_type": "execute_result"
    }
   ],
   "source": [
    "class sort_dict:\n",
    "    def __init__(self,dictt):\n",
    "        self.dictt=dictt\n",
    "    def sort_by_keys(self):\n",
    "        return sorted(self.dictt.items(),key=lambda x:x[0])\n",
    "d=sort_dict({\"name\":12,\"age\":12})\n",
    "d.sort_by_keys()"
   ]
  },
  {
   "cell_type": "code",
   "execution_count": null,
   "metadata": {},
   "outputs": [],
   "source": []
  },
  {
   "cell_type": "code",
   "execution_count": null,
   "metadata": {},
   "outputs": [],
   "source": []
  },
  {
   "cell_type": "code",
   "execution_count": null,
   "metadata": {},
   "outputs": [],
   "source": []
  },
  {
   "cell_type": "code",
   "execution_count": null,
   "metadata": {},
   "outputs": [],
   "source": []
  },
  {
   "cell_type": "code",
   "execution_count": null,
   "metadata": {},
   "outputs": [],
   "source": []
  },
  {
   "cell_type": "code",
   "execution_count": null,
   "metadata": {},
   "outputs": [],
   "source": []
  }
 ],
 "metadata": {
  "kernelspec": {
   "display_name": "Python 3",
   "language": "python",
   "name": "python3"
  },
  "language_info": {
   "codemirror_mode": {
    "name": "ipython",
    "version": 3
   },
   "file_extension": ".py",
   "mimetype": "text/x-python",
   "name": "python",
   "nbconvert_exporter": "python",
   "pygments_lexer": "ipython3",
   "version": "3.8.5"
  }
 },
 "nbformat": 4,
 "nbformat_minor": 4
}
