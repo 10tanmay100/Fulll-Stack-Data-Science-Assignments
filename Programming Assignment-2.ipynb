{
 "cells": [
  {
   "cell_type": "markdown",
   "id": "039c8a22",
   "metadata": {},
   "source": [
    "### 1.\tWrite a Python program to convert kilometers to miles?"
   ]
  },
  {
   "cell_type": "code",
   "execution_count": 3,
   "id": "d1cdadd3",
   "metadata": {},
   "outputs": [
    {
     "name": "stdout",
     "output_type": "stream",
     "text": [
      "Please Put Your Km I will convert it km to m--> 12\n",
      "You've put 12 as kilometer and after converting it miles 7.46\n"
     ]
    }
   ],
   "source": [
    "#Taking Kilometers as an input\n",
    "km=int(input(\"Please Put Your Km I will convert it km to m--> \"))\n",
    "#converting km to miles\n",
    "print(f\"You've put {km} as kilometer and after converting it miles {round(km* 0.621371,2)}\")"
   ]
  },
  {
   "cell_type": "markdown",
   "id": "dc8a011b",
   "metadata": {},
   "source": [
    "### 2.\tWrite a Python program to convert Celsius to Fahrenheit?"
   ]
  },
  {
   "cell_type": "code",
   "execution_count": 4,
   "id": "b9b22d07",
   "metadata": {},
   "outputs": [
    {
     "name": "stdout",
     "output_type": "stream",
     "text": [
      "Please enter your temperature in Celsius--> 5\n",
      "You have put 5.0°c and now after converting to fahrenheit we get 41.0°F\n"
     ]
    }
   ],
   "source": [
    "#taking floating input as a Celsius\n",
    "celsius=float(input(\"Please enter your temperature in Celsius--> \"))\n",
    "#converting celsius to fahrenhite\n",
    "print(f\"You have put {celsius}°c and now after converting to fahrenheit we get {(celsius*1.8)+32}°F\")"
   ]
  },
  {
   "cell_type": "markdown",
   "id": "14c546e8",
   "metadata": {},
   "source": [
    "### 3.\tWrite a Python program to display calendar?"
   ]
  },
  {
   "cell_type": "code",
   "execution_count": 9,
   "id": "c306e3a9",
   "metadata": {},
   "outputs": [
    {
     "name": "stdout",
     "output_type": "stream",
     "text": [
      "   December 2022\n",
      "Mo Tu We Th Fr Sa Su\n",
      "          1  2  3  4\n",
      " 5  6  7  8  9 10 11\n",
      "12 13 14 15 16 17 18\n",
      "19 20 21 22 23 24 25\n",
      "26 27 28 29 30 31\n",
      "\n"
     ]
    }
   ],
   "source": [
    "#import calender\n",
    "import calendar\n",
    "print(calendar.month(2022,12))"
   ]
  },
  {
   "cell_type": "markdown",
   "id": "5b68fd5e",
   "metadata": {},
   "source": [
    "### 4.\tWrite a Python program to solve quadratic equation?"
   ]
  },
  {
   "cell_type": "code",
   "execution_count": 1,
   "id": "0aa54d43",
   "metadata": {},
   "outputs": [
    {
     "name": "stdout",
     "output_type": "stream",
     "text": [
      "Please enter your number--> 12\n",
      "Please enter your number--> 3\n",
      "Please enter your number--> 4\n",
      "Your equation will be 12x^2+3x+4\n",
      "-1116.0\n"
     ]
    }
   ],
   "source": [
    "#considering Equation\n",
    "a=int(input(\"Please enter your number--> \"))\n",
    "b=int(input(\"Please enter your number--> \"))\n",
    "c=int(input(\"Please enter your number--> \"))\n",
    "print(f\"Your equation will be {a}x^2+{b}x+{c}\")\n",
    "print((-b+(b**2-4*a*c))/2*a)"
   ]
  },
  {
   "cell_type": "markdown",
   "id": "78ae70af",
   "metadata": {},
   "source": [
    "### 5.\tWrite a Python program to swap two variables without temp variable?"
   ]
  },
  {
   "cell_type": "code",
   "execution_count": 2,
   "id": "06fa4248",
   "metadata": {},
   "outputs": [
    {
     "name": "stdout",
     "output_type": "stream",
     "text": [
      "30 10\n"
     ]
    }
   ],
   "source": [
    "a=10\n",
    "b=30\n",
    "a,b=b,a\n",
    "print(a,b)"
   ]
  },
  {
   "cell_type": "code",
   "execution_count": null,
   "id": "2fc1bc84",
   "metadata": {},
   "outputs": [],
   "source": []
  }
 ],
 "metadata": {
  "kernelspec": {
   "display_name": "Python 3 (ipykernel)",
   "language": "python",
   "name": "python3"
  },
  "language_info": {
   "codemirror_mode": {
    "name": "ipython",
    "version": 3
   },
   "file_extension": ".py",
   "mimetype": "text/x-python",
   "name": "python",
   "nbconvert_exporter": "python",
   "pygments_lexer": "ipython3",
   "version": "3.9.7"
  }
 },
 "nbformat": 4,
 "nbformat_minor": 5
}
