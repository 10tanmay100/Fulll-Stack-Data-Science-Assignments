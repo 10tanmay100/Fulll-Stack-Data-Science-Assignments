{
 "cells": [
  {
   "cell_type": "markdown",
   "metadata": {},
   "source": [
    "## Question 1:\n",
    "\n",
    "Define a class with a generator which can iterate the numbers, which are divisible by 7, between a given range 0 and n.\n"
   ]
  },
  {
   "cell_type": "code",
   "execution_count": 246,
   "metadata": {},
   "outputs": [],
   "source": [
    "class generator_number:\n",
    "    def __init__(self,end):\n",
    "        self.end=end\n",
    "        self.i=0\n",
    "        self.l=[i for i in range(self.end) if i%7==0]\n",
    "    def __iter__(self):\n",
    "        return self\n",
    "    def __next__(self):\n",
    "        self.i+=1\n",
    "        if self.i<=len(self.l):\n",
    "            return self.l[self.i-1]\n",
    "        else:\n",
    "            raise StopIteration\n",
    "            "
   ]
  },
  {
   "cell_type": "code",
   "execution_count": 247,
   "metadata": {},
   "outputs": [
    {
     "data": {
      "text/plain": [
       "<__main__.generator_number at 0x1e7737835b0>"
      ]
     },
     "execution_count": 247,
     "metadata": {},
     "output_type": "execute_result"
    }
   ],
   "source": [
    "g=generator_number(100)\n",
    "g"
   ]
  },
  {
   "cell_type": "code",
   "execution_count": 248,
   "metadata": {},
   "outputs": [
    {
     "name": "stdout",
     "output_type": "stream",
     "text": [
      "0\n",
      "7\n",
      "14\n",
      "21\n",
      "28\n",
      "35\n",
      "42\n",
      "49\n",
      "56\n",
      "63\n",
      "70\n",
      "77\n",
      "84\n",
      "91\n",
      "98\n"
     ]
    }
   ],
   "source": [
    "for i in g:\n",
    "    print(i)"
   ]
  },
  {
   "cell_type": "markdown",
   "metadata": {},
   "source": [
    "## Question 2:\n",
    "Write a program to compute the frequency of the words from the input. The output should output after sorting the key alphanumerically. \n",
    "\n",
    "Suppose the following input is supplied to the program:\n",
    "\n",
    "New to Python or choosing between Python 2 and Python 3? Read Python 2 or Python 3.\n",
    "\n",
    "Then, the output should be:\n",
    "\n",
    "2:2\n",
    "\n",
    "3.:1\n",
    "\n",
    "3?:1\n",
    "\n",
    "New:1\n",
    "\n",
    "Python:5\n",
    "\n",
    "Read:1\n",
    "\n",
    "and:1\n",
    "\n",
    "between:1\n",
    "\n",
    "choosing:1\n",
    "\n",
    "or:2\n",
    "\n",
    "to:1\n"
   ]
  },
  {
   "cell_type": "code",
   "execution_count": 249,
   "metadata": {},
   "outputs": [],
   "source": [
    "class frequency:\n",
    "    def __init__(self,words):\n",
    "        self.words=words\n",
    "        self.i=-1\n",
    "        self.l=self.words.split(\" \")\n",
    "        self.l_l=list(set(self.l))\n",
    "        self.a_list=[]\n",
    "        self.b_list=[]\n",
    "        for vals in self.l_l:\n",
    "            self.a_list.append(vals)\n",
    "            self.b_list.append(self.l.count(vals))\n",
    "    def __iter__(self):\n",
    "        return self\n",
    "    def __next__(self):\n",
    "        self.i+=1\n",
    "        if self.i<len(self.a_list):\n",
    "            return str(self.a_list[self.i])+\":\"+str(self.b_list[self.i] )\n",
    "        else:\n",
    "            raise StopIteration        "
   ]
  },
  {
   "cell_type": "code",
   "execution_count": 250,
   "metadata": {},
   "outputs": [],
   "source": [
    "f=frequency(\"New to Python or choosing between Python 2 and Python 3? Read Python 2 or Python 3\")"
   ]
  },
  {
   "cell_type": "code",
   "execution_count": 251,
   "metadata": {},
   "outputs": [
    {
     "name": "stdout",
     "output_type": "stream",
     "text": [
      "between:1\n",
      "and:1\n",
      "3?:1\n",
      "2:2\n",
      "Read:1\n",
      "to:1\n",
      "or:2\n",
      "3:1\n",
      "New:1\n",
      "Python:5\n",
      "choosing:1\n"
     ]
    }
   ],
   "source": [
    "for i in f:\n",
    "    print(i)"
   ]
  },
  {
   "cell_type": "markdown",
   "metadata": {},
   "source": [
    "## Question 3:\n",
    "Define a class Person and its two child classes: Male and Female. All classes have a method \"getGender\" which can print \"Male\" for Male class and \"Female\" for Female class."
   ]
  },
  {
   "cell_type": "code",
   "execution_count": 252,
   "metadata": {},
   "outputs": [],
   "source": [
    "class Person:\n",
    "    def __init__(self,gender):\n",
    "        self.gender=gender\n",
    "    def getGender(self):\n",
    "        return self.gender\n",
    "class Male(Person):\n",
    "    def __init__(self,male_gender):\n",
    "        self.male_gender=male_gender\n",
    "    def getGender(self):\n",
    "        return \"Male\"\n",
    "class FeMale(Person):\n",
    "    def getGender(self):\n",
    "        return \"Female\""
   ]
  },
  {
   "cell_type": "code",
   "execution_count": 253,
   "metadata": {},
   "outputs": [
    {
     "data": {
      "text/plain": [
       "'Female'"
      ]
     },
     "execution_count": 253,
     "metadata": {},
     "output_type": "execute_result"
    }
   ],
   "source": [
    "f=FeMale(\"f\")\n",
    "f.getGender()"
   ]
  },
  {
   "cell_type": "markdown",
   "metadata": {},
   "source": [
    "## Question 4:\n",
    "Please write a program to generate all sentences where subject is in [\"I\", \"You\"] and verb is in [\"Play\", \"Love\"] and the object is in [\"Hockey\",\"Football\"].\n"
   ]
  },
  {
   "cell_type": "code",
   "execution_count": 269,
   "metadata": {},
   "outputs": [],
   "source": [
    "class generate_sentence:\n",
    "    def __init__(self,sentence):\n",
    "        self.sentence=sentence\n",
    "        self.sp=self.sentence.split(\".\")\n",
    "    def subject(self):\n",
    "        re=[]\n",
    "        for sent in range(len(self.sp)):\n",
    "            splitter=self.sp[sent].split(\" \")\n",
    "            if (splitter[0] in [\"I\",\"You\"]) & (splitter[1] in [\"Play\",\"Love\"]) & (splitter[2] in [\"Hockey\",\"Football\"]):\n",
    "                re.append(self.sp[sent])\n",
    "        return re\n",
    "                "
   ]
  },
  {
   "cell_type": "code",
   "execution_count": 270,
   "metadata": {},
   "outputs": [
    {
     "data": {
      "text/plain": [
       "['I Love Hockey']"
      ]
     },
     "execution_count": 270,
     "metadata": {},
     "output_type": "execute_result"
    }
   ],
   "source": [
    "c=generate_sentence(\"I love h.I Love Hockey\")\n",
    "c.subject()"
   ]
  },
  {
   "cell_type": "markdown",
   "metadata": {},
   "source": [
    "## Question 5:\n",
    "Please write a program to compress and decompress the string \"hello world!hello world!hello world!hello world!\".\n"
   ]
  },
  {
   "cell_type": "code",
   "execution_count": 73,
   "metadata": {},
   "outputs": [],
   "source": [
    "def compressor(text):\n",
    "    x=text\n",
    "    ans=\"\"\n",
    "    c=1\n",
    "    for i in range(len(x)-1):\n",
    "        if x[i]==x[i+1]:\n",
    "            c+=1\n",
    "        else:\n",
    "            if c>1:\n",
    "                ans=ans+x[i]+str(c)\n",
    "                c=1\n",
    "\n",
    "            \n",
    "    if c>1:            \n",
    "        ans=ans+x[i]+str(c)\n",
    "    return(ans)"
   ]
  },
  {
   "cell_type": "code",
   "execution_count": 74,
   "metadata": {},
   "outputs": [
    {
     "data": {
      "text/plain": [
       "'a3b2'"
      ]
     },
     "execution_count": 74,
     "metadata": {},
     "output_type": "execute_result"
    }
   ],
   "source": [
    "compressor(\"aaabb\")"
   ]
  },
  {
   "cell_type": "code",
   "execution_count": null,
   "metadata": {},
   "outputs": [],
   "source": []
  },
  {
   "cell_type": "markdown",
   "metadata": {},
   "source": [
    "## Question 6:\n",
    "Please write a binary search function which searches an item in a sorted list. The function should return the index of element to be searched in the list.\n"
   ]
  },
  {
   "cell_type": "code",
   "execution_count": 95,
   "metadata": {},
   "outputs": [],
   "source": [
    "def binary_search(lists,search_val):\n",
    "    lists.sort()\n",
    "    l=0\n",
    "    u=len(lists)-1\n",
    "    mid_index=int((l+u)/2)\n",
    "    go=False\n",
    "    if search_val not in lists:\n",
    "        return \"Not in list\"\n",
    "    while (u<len(lists) | l<len(lists) | mid_index<len(lists)) & go==False:\n",
    "        if lists[-1]==search_val:\n",
    "            go=True\n",
    "            return lists.index(search_val)\n",
    "        elif lists[mid_index]==search_val:\n",
    "            go=True\n",
    "            return lists.index(search_val)\n",
    "        elif lists[mid_index]<search_val:\n",
    "            l=mid_index\n",
    "            mid_index=int((l+u)/2)\n",
    "        elif lists[mid_index]>search_val:\n",
    "            u=mid_index\n",
    "            mid_index=int((l+u)/2)\n",
    "        else:\n",
    "            pass"
   ]
  },
  {
   "cell_type": "code",
   "execution_count": 96,
   "metadata": {},
   "outputs": [
    {
     "data": {
      "text/plain": [
       "'Not in list'"
      ]
     },
     "execution_count": 96,
     "metadata": {},
     "output_type": "execute_result"
    }
   ],
   "source": [
    "binary_search([1,7,4,90,56],100)"
   ]
  },
  {
   "cell_type": "code",
   "execution_count": null,
   "metadata": {},
   "outputs": [],
   "source": []
  }
 ],
 "metadata": {
  "kernelspec": {
   "display_name": "Python 3",
   "language": "python",
   "name": "python3"
  },
  "language_info": {
   "codemirror_mode": {
    "name": "ipython",
    "version": 3
   },
   "file_extension": ".py",
   "mimetype": "text/x-python",
   "name": "python",
   "nbconvert_exporter": "python",
   "pygments_lexer": "ipython3",
   "version": "3.8.5"
  }
 },
 "nbformat": 4,
 "nbformat_minor": 4
}
