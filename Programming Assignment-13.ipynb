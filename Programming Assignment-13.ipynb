{
 "cells": [
  {
   "cell_type": "markdown",
   "metadata": {},
   "source": [
    "## Question 1:\n",
    "\n",
    "Write a program that calculates and prints the value according to the given formula:\n",
    "\n",
    "Q = Square root of [(2 * C * D)/H]\n",
    "\n",
    "Following are the fixed values of C and H:\n",
    "\n",
    "C is 50. H is 30.\n",
    "\n",
    "D is the variable whose values should be input to your program in a comma-separated sequence.\n",
    "\n",
    "Example\n",
    "\n",
    "Let us assume the following comma separated input sequence is given to the program:\n",
    "\n",
    "100,150,180\n",
    "\n",
    "The output of the program should be:\n",
    "\n",
    "18,22,24\n"
   ]
  },
  {
   "cell_type": "code",
   "execution_count": 8,
   "metadata": {},
   "outputs": [
    {
     "name": "stdout",
     "output_type": "stream",
     "text": [
      "please enter your number:50\n",
      "please eneter your number:30\n",
      "Please enter your numbers in a comma separated format:100,150,180\n",
      "[18, 22, 24]\n"
     ]
    }
   ],
   "source": [
    "import numpy as np\n",
    "c=int(input(\"please enter your number:\"))\n",
    "H=int(input(\"please eneter your number:\"))\n",
    "D=input(\"Please enter your numbers in a comma separated format:\")\n",
    "answers=[]\n",
    "for vals in D.split(\",\"):\n",
    "    Q=np.sqrt((2*c*int(vals)/H))\n",
    "    answers.append(int(Q))\n",
    "print(answers)"
   ]
  },
  {
   "cell_type": "markdown",
   "metadata": {},
   "source": [
    "## Question 2:\n",
    "Write a program which takes 2 digits, X,Y as input and generates a 2-dimensional array. The element value in the i-th row and j-th column of the array should be i*j.\n",
    "\n",
    "Note: i=0,1.., X-1; j=0,1,¡¬Y-1.\n",
    "\n",
    "Example\n",
    "\n",
    "Suppose the following inputs are given to the program:\n",
    "\n",
    "3,5\n",
    "\n",
    "Then, the output of the program should be:\n",
    "\n",
    "[[0, 0, 0, 0, 0], [0, 1, 2, 3, 4], [0, 2, 4, 6, 8]] \n"
   ]
  },
  {
   "cell_type": "code",
   "execution_count": 18,
   "metadata": {},
   "outputs": [
    {
     "name": "stdout",
     "output_type": "stream",
     "text": [
      "please enter your number3\n",
      "please enter your number5\n",
      "[[0, 0, 0, 0, 0], [0, 1, 2, 3, 4], [0, 2, 4, 6, 8]]\n"
     ]
    }
   ],
   "source": [
    "x=int(input(\"please enter your number\"))\n",
    "y=int(input(\"please enter your number\"))\n",
    "lists=[]\n",
    "for i in range(x):\n",
    "    lists.append([])\n",
    "for j in range(y):\n",
    "    lists[0].append(0)\n",
    "mul=1\n",
    "for i in range(1,x):\n",
    "    for j in range(y):\n",
    "        lists[i].append(j*mul)\n",
    "    mul+=1\n",
    "print(lists)  "
   ]
  },
  {
   "cell_type": "markdown",
   "metadata": {},
   "source": [
    "## Question 3:\n",
    "Write a program that accepts a comma separated sequence of words as input and prints the words in a comma-separated sequence after sorting them alphabetically.\n",
    "\n",
    "Suppose the following input is supplied to the program:\n",
    "\n",
    "without,hello,bag,world\n",
    "\n",
    "Then, the output should be:\n",
    "\n",
    "bag,hello,without,world\n"
   ]
  },
  {
   "cell_type": "code",
   "execution_count": 28,
   "metadata": {},
   "outputs": [
    {
     "name": "stdout",
     "output_type": "stream",
     "text": [
      "please enter your words comma separated:mL,ai\n",
      "['ai', 'mL']\n"
     ]
    }
   ],
   "source": [
    "words=input(\"please enter your words comma separated:\")\n",
    "l=words.split(\",\")\n",
    "print(sorted(l))"
   ]
  },
  {
   "cell_type": "markdown",
   "metadata": {},
   "source": [
    "## Question 4:\n",
    "Write a program that accepts a sequence of whitespace separated words as input and prints the words after removing all duplicate words and sorting them alphanumerically.\n",
    "\n",
    "Suppose the following input is supplied to the program:\n",
    "\n",
    "hello world and practice makes perfect and hello world again\n",
    "\n",
    "Then, the output should be:\n",
    "\n",
    "again and hello makes perfect practice world\n"
   ]
  },
  {
   "cell_type": "code",
   "execution_count": 32,
   "metadata": {},
   "outputs": [
    {
     "name": "stdout",
     "output_type": "stream",
     "text": [
      "please enter your white space separted sentence: hello world and practice makes perfect and hello world again\n",
      "again and hello makes perfect practice world\n"
     ]
    }
   ],
   "source": [
    "word=input(\"please enter your white space separted sentence: \")\n",
    "lists=word.split(\" \")\n",
    "conv_l=list(set(lists))\n",
    "conv_l.sort()\n",
    "print(\" \".join(conv_l))"
   ]
  },
  {
   "cell_type": "markdown",
   "metadata": {},
   "source": [
    "## Question 5:\n",
    "Write a program that accepts a sentence and calculate the number of letters and digits.\n",
    "\n",
    "Suppose the following input is supplied to the program:\n",
    "\n",
    "hello world! 123\n",
    "\n",
    "Then, the output should be:\n",
    "\n",
    "LETTERS 10\n",
    "\n",
    "DIGITS 3\n"
   ]
  },
  {
   "cell_type": "code",
   "execution_count": 34,
   "metadata": {},
   "outputs": [
    {
     "name": "stdout",
     "output_type": "stream",
     "text": [
      "please enter your sentence: hello world! 123\n",
      "Letters 10\n",
      "numbers 3\n"
     ]
    }
   ],
   "source": [
    "words=input(\"please enter your sentence: \")\n",
    "letters=\"\"\n",
    "numbers=\"\"\n",
    "for recs in words:\n",
    "    if recs.isalpha()==True:\n",
    "        letters=letters+recs\n",
    "    elif recs.isdigit()==True:\n",
    "        numbers=numbers+recs\n",
    "print(\"Letters\",len(letters))\n",
    "print(\"numbers\",len(numbers))"
   ]
  },
  {
   "cell_type": "markdown",
   "metadata": {},
   "source": [
    "## Question 6:\n",
    "A website requires the users to input username and password to register. Write a program to check the validity of password input by users.\n",
    "\n",
    "Following are the criteria for checking the password:\n",
    "\n",
    "1. At least 1 letter between [a-z]\n",
    "\n",
    "2. At least 1 number between [0-9]\n",
    "\n",
    "1. At least 1 letter between [A-Z]\n",
    "\n",
    "3. At least 1 character from [$#@]\n",
    "\n",
    "4. Minimum length of transaction password: 6\n",
    "\n",
    "5. Maximum length of transaction password: 12\n",
    "\n",
    "Your program should accept a sequence of comma separated passwords and will check them according to the above criteria. Passwords that match the criteria are to be printed, each separated by a comma.\n",
    "\n",
    "Example\n",
    "\n",
    "If the following passwords are given as input to the program:\n",
    "\n",
    "ABd1234@1,a F1#,2w3E*,2We3345\n",
    "\n",
    "Then, the output of the program should be:\n",
    "\n",
    "ABd1234@1\n"
   ]
  },
  {
   "cell_type": "code",
   "execution_count": 53,
   "metadata": {},
   "outputs": [
    {
     "name": "stdout",
     "output_type": "stream",
     "text": [
      "please enter your passwords:ABd1234@1,a F1#,2w3E*,2We3345\n",
      "checking password...\n"
     ]
    },
    {
     "data": {
      "text/plain": [
       "['ABd1234@1']"
      ]
     },
     "execution_count": 53,
     "metadata": {},
     "output_type": "execute_result"
    }
   ],
   "source": [
    "def pas_criteria(password):\n",
    "    lowercase=\"abcdefghijklmnopqrstuvwxyz\"\n",
    "    uppercase=lowercase.upper()\n",
    "    numbers=\"0123456789\"\n",
    "    special_char=\"$#@\"\n",
    "    check_list=[]\n",
    "    for chars in password:\n",
    "        if chars in lowercase:\n",
    "            check_list.append(True)\n",
    "        if chars in uppercase:\n",
    "            check_list.append(True)\n",
    "        if chars in numbers:\n",
    "            check_list.append(True)\n",
    "        if chars in special_char:\n",
    "            check_list.append(True)\n",
    "    if (len(check_list)==len(password)) & (len(password)>=8) & (len(password)<=10):\n",
    "        return True\n",
    "    else:\n",
    "        return False,len(check_list),len(password)\n",
    "\n",
    "        \n",
    "def password_acceptance():\n",
    "    l=input(\"please enter your passwords:\")\n",
    "    print(\"checking password...\")\n",
    "    li=l.split(\",\")\n",
    "    correct_passwords=[]\n",
    "    for passes in li:\n",
    "        if pas_criteria(passes)==True:\n",
    "            correct_passwords.append(passes)\n",
    "    return correct_passwords\n",
    "password_acceptance()\n",
    "    "
   ]
  },
  {
   "cell_type": "code",
   "execution_count": null,
   "metadata": {},
   "outputs": [],
   "source": []
  },
  {
   "cell_type": "code",
   "execution_count": null,
   "metadata": {},
   "outputs": [],
   "source": []
  }
 ],
 "metadata": {
  "kernelspec": {
   "display_name": "Python 3",
   "language": "python",
   "name": "python3"
  },
  "language_info": {
   "codemirror_mode": {
    "name": "ipython",
    "version": 3
   },
   "file_extension": ".py",
   "mimetype": "text/x-python",
   "name": "python",
   "nbconvert_exporter": "python",
   "pygments_lexer": "ipython3",
   "version": "3.8.5"
  }
 },
 "nbformat": 4,
 "nbformat_minor": 4
}
